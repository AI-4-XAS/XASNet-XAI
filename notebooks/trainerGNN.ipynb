{
 "cells": [
  {
   "cell_type": "code",
   "execution_count": 1,
   "id": "e534e481-6c17-4cda-923f-7c6908c08649",
   "metadata": {},
   "outputs": [],
   "source": [
    "import sys\n",
    "sys.path.append('/p/home/jusers/kotobi2/juwels/hida_project/')"
   ]
  },
  {
   "cell_type": "code",
   "execution_count": 2,
   "id": "62efa73e-8801-490b-8246-c92e9f89652c",
   "metadata": {},
   "outputs": [],
   "source": [
    "import os.path as osp\n",
    "import numpy as np\n",
    "import torch\n",
    "from torch_geometric.loader import DataLoader\n",
    "\n",
    "from attribution_gnn1.QM9_SpecData import QM9_SpecData\n",
    "from attribution_gnn1.split import save_split\n",
    "\n",
    "from src.models import SpectraGNN, SpectraGAT, SpectraGraphNet\n",
    "\n",
    "from training.trainer import GNNTrainer"
   ]
  },
  {
   "cell_type": "code",
   "execution_count": 3,
   "id": "977a8449-97ae-4bd9-8043-52508a91654c",
   "metadata": {},
   "outputs": [],
   "source": [
    "model_name = 'spectragraphnet_50k_bl.pt'\n",
    "num_epochs = 100\n",
    "device = 'cuda' if torch.cuda.is_available() else 'cpu'\n",
    "lr =1e-3\n",
    "milestones = np.arange(10, 100, 10).tolist()"
   ]
  },
  {
   "cell_type": "markdown",
   "id": "e4c45bed-3905-4c85-b3ef-4bedaba4051e",
   "metadata": {},
   "source": [
    "# preparing the data"
   ]
  },
  {
   "cell_type": "code",
   "execution_count": 4,
   "id": "1203bffa-0dfd-42bc-a90b-af821a3aeed1",
   "metadata": {
    "tags": []
   },
   "outputs": [],
   "source": [
    "root = '/p/home/jusers/kotobi2/juwels/data_qm9/all_graph_data/qm9_spec_50k_0-8eV_bl.pt'\n",
    "qm9_spec = QM9_SpecData(root=root,\n",
    "             raw_dir='/p/home/jusers/kotobi2/juwels/data_qm9/raw/',\n",
    "             spectra=[])#broadened_spectra_stk)"
   ]
  },
  {
   "cell_type": "code",
   "execution_count": 5,
   "id": "59c8e524-5d43-4377-a17d-981019992ca2",
   "metadata": {},
   "outputs": [],
   "source": [
    "idxs = save_split(\n",
    "    path='/p/home/jusers/kotobi2/juwels/hida_project/data/split_files2/qm9_split_50k_0-8eV_bl.npz',\n",
    "    ndata=len(qm9_spec),\n",
    "    ntrain=40000,\n",
    "    nval=10000,\n",
    "    ntest=0,\n",
    "    save_split=True,\n",
    "    shuffle=True, \n",
    "    print_nsample=True\n",
    ")"
   ]
  },
  {
   "cell_type": "code",
   "execution_count": 6,
   "id": "49c39bc1-604d-44f7-a0e5-694e5342b6e8",
   "metadata": {},
   "outputs": [],
   "source": [
    "#train, val and test data\n",
    "train_qm9 = [qm9_spec[i] for i in idxs['train']]\n",
    "val_qm9 = [qm9_spec[i] for i in idxs['val']]\n",
    "#test_qm9 = qm9_spec[idxs['test']]"
   ]
  },
  {
   "cell_type": "code",
   "execution_count": 7,
   "id": "35c3e403-4c32-4d06-8a25-6d87e6d70031",
   "metadata": {},
   "outputs": [],
   "source": [
    "# data loaders \n",
    "train_loader = DataLoader(train_qm9, batch_size=100, shuffle=True)\n",
    "val_loader = DataLoader(val_qm9, batch_size=100, shuffle=True)\n",
    "#test_loader = DataLoader(test_qm9, batch_size=100)"
   ]
  },
  {
   "cell_type": "code",
   "execution_count": 17,
   "id": "39aef827-964e-4fb6-b17f-c791b77b80f0",
   "metadata": {
    "tags": []
   },
   "outputs": [
    {
     "data": {
      "text/plain": [
       "50000"
      ]
     },
     "execution_count": 17,
     "metadata": {},
     "output_type": "execute_result"
    }
   ],
   "source": [
    "len(qm9_spec)"
   ]
  },
  {
   "cell_type": "markdown",
   "id": "931f56c8-4856-43e7-a43a-b6d52000f0f5",
   "metadata": {},
   "source": [
    "# some more metrics"
   ]
  },
  {
   "cell_type": "code",
   "execution_count": 8,
   "id": "0c11bcb6-2436-4f70-b369-fce8d2639875",
   "metadata": {},
   "outputs": [],
   "source": [
    "def RSE_loss(prediction, target):\n",
    "    dE = (300 - 270) / 100\n",
    "    nom = torch.sum(dE*torch.pow((target-prediction), 2))\n",
    "    denom = torch.sum(dE*target)\n",
    "    return torch.sqrt(nom) / denom "
   ]
  },
  {
   "cell_type": "code",
   "execution_count": 9,
   "id": "1db35752-17cc-40a3-bd76-db9bfc1fbdbd",
   "metadata": {},
   "outputs": [],
   "source": [
    "def RMSE(prediction, target):\n",
    "    return torch.sqrt(torch.mean((target - prediction)**2))"
   ]
  },
  {
   "cell_type": "code",
   "execution_count": null,
   "id": "077b6a6a-7cfd-4927-9130-ba7ba9384437",
   "metadata": {},
   "outputs": [],
   "source": []
  },
  {
   "cell_type": "markdown",
   "id": "d2775f57-94e5-44c5-b886-a19615d2ba9b",
   "metadata": {},
   "source": [
    "# loading the model "
   ]
  },
  {
   "cell_type": "markdown",
   "id": "db4f3623-0f5e-4fc8-9229-2b2b08e74e74",
   "metadata": {},
   "source": [
    "## spectragnn"
   ]
  },
  {
   "cell_type": "code",
   "execution_count": 17,
   "id": "b081fac8-7f93-473b-82a0-e41b42f5f3c7",
   "metadata": {
    "tags": []
   },
   "outputs": [
    {
     "name": "stdout",
     "output_type": "stream",
     "text": [
      "model is not loaded\n"
     ]
    }
   ],
   "source": [
    "spectragnn = SpectraGNN(\n",
    "    gnn_name='gatv2',\n",
    "    in_channels=[11, 128, 256, 512],\n",
    "    out_channels=[128, 256, 512, 600],\n",
    "    num_targets=100,\n",
    "    num_layers=4,\n",
    "    heads=3\n",
    ").to(device)\n",
    "\n",
    "# loading the saved model \n",
    "path_to_model = osp.join('./best_model', \n",
    "                         model_name)\n",
    "\n",
    "if osp.exists(path_to_model):\n",
    "    spectragnn.load_state_dict(torch.load(path_to_model))\n",
    "else:\n",
    "    print('model is not loaded')"
   ]
  },
  {
   "cell_type": "code",
   "execution_count": 18,
   "id": "f54e1ba0-f146-41cc-bba1-3d360ef8e632",
   "metadata": {
    "tags": []
   },
   "outputs": [
    {
     "data": {
      "text/plain": [
       "SpectraGNN(\n",
       "  (interaction_layers): ModuleList(\n",
       "    (0): GATv2Conv(11, 128, heads=3)\n",
       "    (1): ReLU(inplace=True)\n",
       "    (2): GATv2Conv(384, 256, heads=3)\n",
       "    (3): ReLU(inplace=True)\n",
       "    (4): GATv2Conv(768, 512, heads=3)\n",
       "    (5): ReLU(inplace=True)\n",
       "    (6): GATv2Conv(1536, 600, heads=1)\n",
       "  )\n",
       "  (dropout): Dropout(p=0.3, inplace=False)\n",
       "  (out): Linear(in_features=600, out_features=100, bias=True)\n",
       ")"
      ]
     },
     "execution_count": 18,
     "metadata": {},
     "output_type": "execute_result"
    }
   ],
   "source": [
    "spectragnn"
   ]
  },
  {
   "cell_type": "markdown",
   "id": "468c1d1a-3689-4108-8b5c-fb1137ee3f9a",
   "metadata": {},
   "source": [
    "## SpectraGAT"
   ]
  },
  {
   "cell_type": "code",
   "execution_count": 11,
   "id": "e8627112-f0ab-4fe3-82d1-f0d43691d3e2",
   "metadata": {},
   "outputs": [
    {
     "name": "stdout",
     "output_type": "stream",
     "text": [
      "model is not loaded\n"
     ]
    }
   ],
   "source": [
    "spectragat = SpectraGAT(\n",
    "    node_features_dim=11,\n",
    "    in_channels=[128, 128, 128, 128],\n",
    "    out_channels=[128, 128, 128, 400],\n",
    "    targets=100,\n",
    "    n_layers=4,\n",
    "    n_heads=3,\n",
    "    gat_type = 'gatv2_custom',\n",
    "    use_residuals=True,\n",
    "    use_jk=True\n",
    ").to(device)\n",
    "\n",
    "# loading the saved model \n",
    "path_to_model = osp.join('./best_model', \n",
    "                         model_name)\n",
    "\n",
    "if osp.exists(path_to_model):\n",
    "    spectragat.load_state_dict(torch.load(path_to_model))\n",
    "else:\n",
    "    print('model is not loaded')"
   ]
  },
  {
   "cell_type": "code",
   "execution_count": 12,
   "id": "b27fc497-67c2-4d85-befa-cd56ea69f968",
   "metadata": {
    "collapsed": true,
    "jupyter": {
     "outputs_hidden": true
    },
    "tags": []
   },
   "outputs": [
    {
     "data": {
      "text/plain": [
       "SpectraGAT(\n",
       "  (pre_layer): LinearLayer(\n",
       "    (linear): Linear(in_features=11, out_features=128, bias=False)\n",
       "    (_activation): ReLU(inplace=True)\n",
       "  )\n",
       "  (res_block): Residual_block(\n",
       "    (res_layers): Sequential(\n",
       "      (0): LinearLayer(\n",
       "        (linear): Linear(in_features=128, out_features=128, bias=False)\n",
       "        (_activation): ReLU(inplace=True)\n",
       "      )\n",
       "      (1): LinearLayer(\n",
       "        (linear): Linear(in_features=128, out_features=128, bias=False)\n",
       "        (_activation): ReLU(inplace=True)\n",
       "      )\n",
       "      (2): LinearLayer(\n",
       "        (linear): Linear(in_features=128, out_features=128, bias=False)\n",
       "        (_activation): ReLU(inplace=True)\n",
       "      )\n",
       "      (3): LinearLayer(\n",
       "        (linear): Linear(in_features=128, out_features=128, bias=False)\n",
       "        (_activation): ReLU(inplace=True)\n",
       "      )\n",
       "    )\n",
       "  )\n",
       "  (gat_layers): ModuleList(\n",
       "    (0): GATv2LayerCus(\n",
       "      (lin_r): LinearLayer(\n",
       "        (linear): Linear(in_features=128, out_features=384, bias=False)\n",
       "        (_activation): Identity()\n",
       "      )\n",
       "      (lin_l): LinearLayer(\n",
       "        (linear): Linear(in_features=128, out_features=384, bias=False)\n",
       "        (_activation): Identity()\n",
       "      )\n",
       "      (res_block): Residual_block(\n",
       "        (res_layers): Sequential(\n",
       "          (0): LinearLayer(\n",
       "            (linear): Linear(in_features=128, out_features=128, bias=False)\n",
       "            (_activation): ReLU(inplace=True)\n",
       "          )\n",
       "          (1): LinearLayer(\n",
       "            (linear): Linear(in_features=128, out_features=128, bias=False)\n",
       "            (_activation): ReLU(inplace=True)\n",
       "          )\n",
       "          (2): LinearLayer(\n",
       "            (linear): Linear(in_features=128, out_features=128, bias=False)\n",
       "            (_activation): ReLU(inplace=True)\n",
       "          )\n",
       "          (3): LinearLayer(\n",
       "            (linear): Linear(in_features=128, out_features=128, bias=False)\n",
       "            (_activation): ReLU(inplace=True)\n",
       "          )\n",
       "        )\n",
       "      )\n",
       "    )\n",
       "    (1): ReLU(inplace=True)\n",
       "    (2): GATv2LayerCus(\n",
       "      (lin_r): LinearLayer(\n",
       "        (linear): Linear(in_features=384, out_features=384, bias=False)\n",
       "        (_activation): Identity()\n",
       "      )\n",
       "      (lin_l): LinearLayer(\n",
       "        (linear): Linear(in_features=384, out_features=384, bias=False)\n",
       "        (_activation): Identity()\n",
       "      )\n",
       "      (res_block): Residual_block(\n",
       "        (res_layers): Sequential(\n",
       "          (0): LinearLayer(\n",
       "            (linear): Linear(in_features=128, out_features=128, bias=False)\n",
       "            (_activation): ReLU(inplace=True)\n",
       "          )\n",
       "          (1): LinearLayer(\n",
       "            (linear): Linear(in_features=128, out_features=128, bias=False)\n",
       "            (_activation): ReLU(inplace=True)\n",
       "          )\n",
       "          (2): LinearLayer(\n",
       "            (linear): Linear(in_features=128, out_features=128, bias=False)\n",
       "            (_activation): ReLU(inplace=True)\n",
       "          )\n",
       "          (3): LinearLayer(\n",
       "            (linear): Linear(in_features=128, out_features=128, bias=False)\n",
       "            (_activation): ReLU(inplace=True)\n",
       "          )\n",
       "        )\n",
       "      )\n",
       "    )\n",
       "    (3): ReLU(inplace=True)\n",
       "    (4): GATv2LayerCus(\n",
       "      (lin_r): LinearLayer(\n",
       "        (linear): Linear(in_features=384, out_features=384, bias=False)\n",
       "        (_activation): Identity()\n",
       "      )\n",
       "      (lin_l): LinearLayer(\n",
       "        (linear): Linear(in_features=384, out_features=384, bias=False)\n",
       "        (_activation): Identity()\n",
       "      )\n",
       "      (res_block): Residual_block(\n",
       "        (res_layers): Sequential(\n",
       "          (0): LinearLayer(\n",
       "            (linear): Linear(in_features=128, out_features=128, bias=False)\n",
       "            (_activation): ReLU(inplace=True)\n",
       "          )\n",
       "          (1): LinearLayer(\n",
       "            (linear): Linear(in_features=128, out_features=128, bias=False)\n",
       "            (_activation): ReLU(inplace=True)\n",
       "          )\n",
       "          (2): LinearLayer(\n",
       "            (linear): Linear(in_features=128, out_features=128, bias=False)\n",
       "            (_activation): ReLU(inplace=True)\n",
       "          )\n",
       "          (3): LinearLayer(\n",
       "            (linear): Linear(in_features=128, out_features=128, bias=False)\n",
       "            (_activation): ReLU(inplace=True)\n",
       "          )\n",
       "        )\n",
       "      )\n",
       "    )\n",
       "    (5): ReLU(inplace=True)\n",
       "    (6): GATv2LayerCus(\n",
       "      (lin_r): LinearLayer(\n",
       "        (linear): Linear(in_features=384, out_features=400, bias=False)\n",
       "        (_activation): Identity()\n",
       "      )\n",
       "      (lin_l): LinearLayer(\n",
       "        (linear): Linear(in_features=384, out_features=400, bias=False)\n",
       "        (_activation): Identity()\n",
       "      )\n",
       "      (res_block): Residual_block(\n",
       "        (res_layers): Sequential(\n",
       "          (0): LinearLayer(\n",
       "            (linear): Linear(in_features=400, out_features=400, bias=False)\n",
       "            (_activation): ReLU(inplace=True)\n",
       "          )\n",
       "          (1): LinearLayer(\n",
       "            (linear): Linear(in_features=400, out_features=400, bias=False)\n",
       "            (_activation): ReLU(inplace=True)\n",
       "          )\n",
       "          (2): LinearLayer(\n",
       "            (linear): Linear(in_features=400, out_features=400, bias=False)\n",
       "            (_activation): ReLU(inplace=True)\n",
       "          )\n",
       "          (3): LinearLayer(\n",
       "            (linear): Linear(in_features=400, out_features=400, bias=False)\n",
       "            (_activation): ReLU(inplace=True)\n",
       "          )\n",
       "        )\n",
       "      )\n",
       "    )\n",
       "  )\n",
       "  (lstm): LSTM(384, 128, num_layers=3, batch_first=True, bidirectional=True)\n",
       "  (attn): Linear(in_features=256, out_features=1, bias=True)\n",
       "  (dropout): Dropout(p=0.3, inplace=False)\n",
       "  (linear_out): LinearLayer(\n",
       "    (linear): Linear(in_features=400, out_features=100, bias=False)\n",
       "    (_activation): Identity()\n",
       "  )\n",
       ")"
      ]
     },
     "execution_count": 12,
     "metadata": {},
     "output_type": "execute_result"
    }
   ],
   "source": [
    "spectragat"
   ]
  },
  {
   "cell_type": "markdown",
   "id": "fe079770-54f8-4c42-b5f0-163fb1df3517",
   "metadata": {},
   "source": [
    "# SpectraGraphNet"
   ]
  },
  {
   "cell_type": "code",
   "execution_count": null,
   "id": "41cbbae7-999d-4e7b-8027-a1295c74539c",
   "metadata": {},
   "outputs": [
    {
     "ename": "NameError",
     "evalue": "name 'SpectraGraphNet' is not defined",
     "output_type": "error",
     "traceback": [
      "\u001b[0;31m---------------------------------------------------------------------------\u001b[0m",
      "\u001b[0;31mNameError\u001b[0m                                 Traceback (most recent call last)",
      "Input \u001b[0;32mIn [1]\u001b[0m, in \u001b[0;36m<cell line: 1>\u001b[0;34m()\u001b[0m\n\u001b[0;32m----> 1\u001b[0m spectragraphnet \u001b[38;5;241m=\u001b[39m \u001b[43mSpectraGraphNet\u001b[49m(\n\u001b[1;32m      2\u001b[0m                  node_dim \u001b[38;5;241m=\u001b[39m \u001b[38;5;241m14\u001b[39m,\n\u001b[1;32m      3\u001b[0m                  edge_dim \u001b[38;5;241m=\u001b[39m \u001b[38;5;241m5\u001b[39m,\n\u001b[1;32m      4\u001b[0m                  hidden_channels \u001b[38;5;241m=\u001b[39m \u001b[38;5;241m512\u001b[39m,\n\u001b[1;32m      5\u001b[0m                  out_channels \u001b[38;5;241m=\u001b[39m \u001b[38;5;241m200\u001b[39m,\n\u001b[1;32m      6\u001b[0m                  gat_hidd \u001b[38;5;241m=\u001b[39m \u001b[38;5;241m512\u001b[39m,\n\u001b[1;32m      7\u001b[0m                  gat_out \u001b[38;5;241m=\u001b[39m \u001b[38;5;241m100\u001b[39m,\n\u001b[1;32m      8\u001b[0m                  n_layers \u001b[38;5;241m=\u001b[39m \u001b[38;5;241m3\u001b[39m,\n\u001b[1;32m      9\u001b[0m                  n_targets \u001b[38;5;241m=\u001b[39m \u001b[38;5;241m100\u001b[39m)\u001b[38;5;241m.\u001b[39mto(device)\n\u001b[1;32m     11\u001b[0m \u001b[38;5;66;03m# loading the saved model \u001b[39;00m\n\u001b[1;32m     12\u001b[0m path_to_model \u001b[38;5;241m=\u001b[39m osp\u001b[38;5;241m.\u001b[39mjoin(\u001b[38;5;124m'\u001b[39m\u001b[38;5;124m/home/kotobiam/data_qm9/trained_models/best_model\u001b[39m\u001b[38;5;124m'\u001b[39m, \n\u001b[1;32m     13\u001b[0m                          \u001b[38;5;124m'\u001b[39m\u001b[38;5;124mspectragraphnet_50k_bl_pd.pt\u001b[39m\u001b[38;5;124m'\u001b[39m)\n",
      "\u001b[0;31mNameError\u001b[0m: name 'SpectraGraphNet' is not defined"
     ]
    }
   ],
   "source": [
    "spectragraphnet = SpectraGraphNet(\n",
    "                 node_dim = 14,\n",
    "                 edge_dim = 5,\n",
    "                 hidden_channels = 512,\n",
    "                 out_channels = 200,\n",
    "                 gat_hidd = 512,\n",
    "                 gat_out = 100,\n",
    "                 n_layers = 3,\n",
    "                 n_targets = 100).to(device)\n",
    "\n",
    "# loading the saved model \n",
    "path_to_model = osp.join('./best_model', \n",
    "                         'spectragraphnet_50k_bl_pd.pt')\n",
    "\n",
    "if osp.exists(path_to_model):\n",
    "    spectragraphnet.load_state_dict(torch.load(path_to_model))\n",
    "else:\n",
    "    print('model is not loaded')"
   ]
  },
  {
   "cell_type": "code",
   "execution_count": 13,
   "id": "a1c4b74c-e2a4-43af-8d39-1472b76e6e0c",
   "metadata": {
    "collapsed": true,
    "jupyter": {
     "outputs_hidden": true
    },
    "tags": []
   },
   "outputs": [
    {
     "data": {
      "text/plain": [
       "SpectraGraphNet(\n",
       "  (graphnets): ModuleList(\n",
       "    (0): GraphNetwork(\n",
       "      (gatencoder): GATEncoder(\n",
       "        (gats): ModuleList(\n",
       "          (0): GATv2Conv(12, 64, heads=3)\n",
       "          (1): ReLU(inplace=True)\n",
       "          (2): GATv2Conv(192, 64, heads=3)\n",
       "          (3): ReLU(inplace=True)\n",
       "          (4): GATv2Conv(192, 64, heads=3)\n",
       "          (5): ReLU(inplace=True)\n",
       "          (6): GATv2Conv(192, 20, heads=1)\n",
       "        )\n",
       "      )\n",
       "      (node_model): NodeModel(\n",
       "        (mlp): Sequential(\n",
       "          (0): Linear(in_features=42, out_features=64, bias=True)\n",
       "          (1): ReLU(inplace=True)\n",
       "          (2): Linear(in_features=64, out_features=50, bias=True)\n",
       "          (3): ReLU(inplace=True)\n",
       "          (4): LayerNorm((50,), eps=1e-05, elementwise_affine=True)\n",
       "        )\n",
       "      )\n",
       "      (edge_model): EdgeModel(\n",
       "        (mlp): Sequential(\n",
       "          (0): Linear(in_features=125, out_features=64, bias=True)\n",
       "          (1): ReLU(inplace=True)\n",
       "          (2): Linear(in_features=64, out_features=50, bias=True)\n",
       "          (3): ReLU(inplace=True)\n",
       "          (4): LayerNorm((50,), eps=1e-05, elementwise_affine=True)\n",
       "        )\n",
       "      )\n",
       "      (global_model): GlobalModel(\n",
       "        (mlp): Sequential(\n",
       "          (0): Linear(in_features=120, out_features=64, bias=True)\n",
       "          (1): ReLU(inplace=True)\n",
       "          (2): Linear(in_features=64, out_features=50, bias=True)\n",
       "          (3): ReLU(inplace=True)\n",
       "          (4): LayerNorm((50,), eps=1e-05, elementwise_affine=True)\n",
       "        )\n",
       "      )\n",
       "    )\n",
       "    (1): GraphNetwork(\n",
       "      (gatencoder): GATEncoder(\n",
       "        (gats): ModuleList(\n",
       "          (0): GATv2Conv(12, 64, heads=3)\n",
       "          (1): ReLU(inplace=True)\n",
       "          (2): GATv2Conv(192, 64, heads=3)\n",
       "          (3): ReLU(inplace=True)\n",
       "          (4): GATv2Conv(192, 64, heads=3)\n",
       "          (5): ReLU(inplace=True)\n",
       "          (6): GATv2Conv(192, 20, heads=1)\n",
       "        )\n",
       "      )\n",
       "      (node_model): NodeModel(\n",
       "        (mlp): Sequential(\n",
       "          (0): Linear(in_features=200, out_features=64, bias=True)\n",
       "          (1): ReLU(inplace=True)\n",
       "          (2): Linear(in_features=64, out_features=50, bias=True)\n",
       "          (3): ReLU(inplace=True)\n",
       "          (4): LayerNorm((50,), eps=1e-05, elementwise_affine=True)\n",
       "        )\n",
       "      )\n",
       "      (edge_model): EdgeModel(\n",
       "        (mlp): Sequential(\n",
       "          (0): Linear(in_features=200, out_features=64, bias=True)\n",
       "          (1): ReLU(inplace=True)\n",
       "          (2): Linear(in_features=64, out_features=50, bias=True)\n",
       "          (3): ReLU(inplace=True)\n",
       "          (4): LayerNorm((50,), eps=1e-05, elementwise_affine=True)\n",
       "        )\n",
       "      )\n",
       "      (global_model): GlobalModel(\n",
       "        (mlp): Sequential(\n",
       "          (0): Linear(in_features=150, out_features=64, bias=True)\n",
       "          (1): ReLU(inplace=True)\n",
       "          (2): Linear(in_features=64, out_features=50, bias=True)\n",
       "          (3): ReLU(inplace=True)\n",
       "          (4): LayerNorm((50,), eps=1e-05, elementwise_affine=True)\n",
       "        )\n",
       "      )\n",
       "    )\n",
       "    (2): GraphNetwork(\n",
       "      (gatencoder): GATEncoder(\n",
       "        (gats): ModuleList(\n",
       "          (0): GATv2Conv(12, 64, heads=3)\n",
       "          (1): ReLU(inplace=True)\n",
       "          (2): GATv2Conv(192, 64, heads=3)\n",
       "          (3): ReLU(inplace=True)\n",
       "          (4): GATv2Conv(192, 64, heads=3)\n",
       "          (5): ReLU(inplace=True)\n",
       "          (6): GATv2Conv(192, 20, heads=1)\n",
       "        )\n",
       "      )\n",
       "      (node_model): NodeModel(\n",
       "        (mlp): Sequential(\n",
       "          (0): Linear(in_features=200, out_features=64, bias=True)\n",
       "          (1): ReLU(inplace=True)\n",
       "          (2): Linear(in_features=64, out_features=50, bias=True)\n",
       "          (3): ReLU(inplace=True)\n",
       "          (4): LayerNorm((50,), eps=1e-05, elementwise_affine=True)\n",
       "        )\n",
       "      )\n",
       "      (edge_model): EdgeModel(\n",
       "        (mlp): Sequential(\n",
       "          (0): Linear(in_features=200, out_features=64, bias=True)\n",
       "          (1): ReLU(inplace=True)\n",
       "          (2): Linear(in_features=64, out_features=50, bias=True)\n",
       "          (3): ReLU(inplace=True)\n",
       "          (4): LayerNorm((50,), eps=1e-05, elementwise_affine=True)\n",
       "        )\n",
       "      )\n",
       "      (global_model): GlobalModel(\n",
       "        (mlp): Sequential(\n",
       "          (0): Linear(in_features=150, out_features=64, bias=True)\n",
       "          (1): ReLU(inplace=True)\n",
       "          (2): Linear(in_features=64, out_features=50, bias=True)\n",
       "          (3): ReLU(inplace=True)\n",
       "          (4): LayerNorm((50,), eps=1e-05, elementwise_affine=True)\n",
       "        )\n",
       "      )\n",
       "    )\n",
       "  )\n",
       "  (dropout): Dropout(p=0.3, inplace=False)\n",
       "  (output_dense): Linear(in_features=50, out_features=100, bias=True)\n",
       ")"
      ]
     },
     "execution_count": 13,
     "metadata": {},
     "output_type": "execute_result"
    }
   ],
   "source": [
    "spectragraphnet"
   ]
  },
  {
   "cell_type": "markdown",
   "id": "ba3b6ce5-1933-4100-9343-9421814d5f5f",
   "metadata": {},
   "source": [
    "# Training with the trainer class"
   ]
  },
  {
   "cell_type": "code",
   "execution_count": 14,
   "id": "e55853b2-3f8c-4e57-a33d-a6546256df61",
   "metadata": {},
   "outputs": [],
   "source": [
    "optimizer = torch.optim.AdamW(spectragraphnet.parameters(), lr=lr)\n",
    "loss_fn = torch.nn.L1Loss()\n",
    "loss_fn2 = torch.nn.MSELoss()\n",
    "scheduler = torch.optim.lr_scheduler.MultiStepLR(optimizer, \n",
    "                                                 milestones=milestones,\n",
    "                                                 gamma=0.8)"
   ]
  },
  {
   "cell_type": "code",
   "execution_count": 15,
   "id": "3595e964-205b-46a1-a95a-0251a2724f9a",
   "metadata": {},
   "outputs": [],
   "source": [
    "trainer = GNNTrainer(model=spectragraphnet, \n",
    "                     model_name=\"spectragraphnet_50k_bl\",\n",
    "                     device=device,\n",
    "                     metric_path=\"./metrics\")"
   ]
  },
  {
   "cell_type": "code",
   "execution_count": 16,
   "id": "c85f6802-1a5d-4d84-bb28-a99e9230c9f1",
   "metadata": {
    "scrolled": true,
    "tags": []
   },
   "outputs": [
    {
     "name": "stderr",
     "output_type": "stream",
     "text": [
      "  0%|          | 0/100 [00:00<?, ?it/s]/p/software/juwelsbooster/stages/2020/software/PyTorch/1.8.1-gcccoremkl-10.3.0-2021.2.0-Python-3.8.5/lib/python3.8/site-packages/torch/optim/lr_scheduler.py:416: UserWarning: To get the last learning rate computed by the scheduler, please use `get_last_lr()`.\n",
      "  warnings.warn(\"To get the last learning rate computed by the scheduler, \"\n",
      "  1%|          | 1/100 [01:20<2:12:11, 80.12s/it]"
     ]
    },
    {
     "name": "stdout",
     "output_type": "stream",
     "text": [
      "time = 1.33 mins mins\n",
      "epoch 0 | average train loss = 19.55  and average validation loss = 16.39  |learning rate = 0.00100\n"
     ]
    },
    {
     "name": "stderr",
     "output_type": "stream",
     "text": [
      "  2%|▏         | 2/100 [02:19<1:50:50, 67.86s/it]"
     ]
    },
    {
     "name": "stdout",
     "output_type": "stream",
     "text": [
      "time = 2.32 mins mins\n",
      "epoch 1 | average train loss = 12.47  and average validation loss = 9.61  |learning rate = 0.00100\n"
     ]
    },
    {
     "name": "stderr",
     "output_type": "stream",
     "text": [
      "  3%|▎         | 3/100 [03:20<1:44:25, 64.59s/it]"
     ]
    },
    {
     "name": "stdout",
     "output_type": "stream",
     "text": [
      "time = 3.34 mins mins\n",
      "epoch 2 | average train loss = 9.07  and average validation loss = 8.70  |learning rate = 0.00100\n"
     ]
    },
    {
     "name": "stderr",
     "output_type": "stream",
     "text": [
      "  4%|▍         | 4/100 [04:23<1:42:36, 64.13s/it]"
     ]
    },
    {
     "name": "stdout",
     "output_type": "stream",
     "text": [
      "time = 4.39 mins mins\n",
      "epoch 3 | average train loss = 8.84  and average validation loss = 8.66  |learning rate = 0.00100\n"
     ]
    },
    {
     "name": "stderr",
     "output_type": "stream",
     "text": [
      "  5%|▌         | 5/100 [05:26<1:40:37, 63.55s/it]"
     ]
    },
    {
     "name": "stdout",
     "output_type": "stream",
     "text": [
      "time = 5.43 mins mins\n",
      "epoch 4 | average train loss = 8.84  and average validation loss = 8.67  |learning rate = 0.00100\n"
     ]
    },
    {
     "name": "stderr",
     "output_type": "stream",
     "text": [
      "  6%|▌         | 6/100 [06:27<1:38:15, 62.72s/it]"
     ]
    },
    {
     "name": "stdout",
     "output_type": "stream",
     "text": [
      "time = 6.45 mins mins\n",
      "epoch 5 | average train loss = 8.83  and average validation loss = 8.66  |learning rate = 0.00100\n"
     ]
    },
    {
     "name": "stderr",
     "output_type": "stream",
     "text": [
      "  7%|▋         | 7/100 [07:28<1:36:27, 62.23s/it]"
     ]
    },
    {
     "name": "stdout",
     "output_type": "stream",
     "text": [
      "time = 7.47 mins mins\n",
      "epoch 6 | average train loss = 8.83  and average validation loss = 8.65  |learning rate = 0.00100\n"
     ]
    },
    {
     "name": "stderr",
     "output_type": "stream",
     "text": [
      "  8%|▊         | 8/100 [08:29<1:34:58, 61.94s/it]"
     ]
    },
    {
     "name": "stdout",
     "output_type": "stream",
     "text": [
      "time = 8.49 mins mins\n",
      "epoch 7 | average train loss = 8.80  and average validation loss = 8.40  |learning rate = 0.00100\n"
     ]
    },
    {
     "name": "stderr",
     "output_type": "stream",
     "text": [
      "  9%|▉         | 9/100 [09:31<1:33:38, 61.74s/it]"
     ]
    },
    {
     "name": "stdout",
     "output_type": "stream",
     "text": [
      "time = 9.52 mins mins\n",
      "epoch 8 | average train loss = 8.21  and average validation loss = 7.78  |learning rate = 0.00100\n"
     ]
    },
    {
     "name": "stderr",
     "output_type": "stream",
     "text": [
      " 10%|█         | 10/100 [10:32<1:32:41, 61.79s/it]"
     ]
    },
    {
     "name": "stdout",
     "output_type": "stream",
     "text": [
      "time = 10.55 mins mins\n",
      "epoch 9 | average train loss = 7.90  and average validation loss = 7.59  |learning rate = 0.00064\n"
     ]
    },
    {
     "name": "stderr",
     "output_type": "stream",
     "text": [
      " 11%|█         | 11/100 [11:35<1:32:13, 62.18s/it]"
     ]
    },
    {
     "name": "stdout",
     "output_type": "stream",
     "text": [
      "time = 11.60 mins mins\n",
      "epoch 10 | average train loss = 7.75  and average validation loss = 7.48  |learning rate = 0.00080\n"
     ]
    },
    {
     "name": "stderr",
     "output_type": "stream",
     "text": [
      " 12%|█▏        | 12/100 [12:37<1:30:48, 61.92s/it]"
     ]
    },
    {
     "name": "stdout",
     "output_type": "stream",
     "text": [
      "time = 12.62 mins mins\n",
      "epoch 11 | average train loss = 7.65  and average validation loss = 7.34  |learning rate = 0.00080\n"
     ]
    },
    {
     "name": "stderr",
     "output_type": "stream",
     "text": [
      " 13%|█▎        | 13/100 [13:39<1:30:01, 62.09s/it]"
     ]
    },
    {
     "name": "stdout",
     "output_type": "stream",
     "text": [
      "time = 13.66 mins mins\n",
      "epoch 12 | average train loss = 7.54  and average validation loss = 7.22  |learning rate = 0.00080\n"
     ]
    },
    {
     "name": "stderr",
     "output_type": "stream",
     "text": [
      " 14%|█▍        | 14/100 [14:41<1:28:56, 62.05s/it]"
     ]
    },
    {
     "name": "stdout",
     "output_type": "stream",
     "text": [
      "time = 14.70 mins mins\n",
      "epoch 13 | average train loss = 7.46  and average validation loss = 7.20  |learning rate = 0.00080\n"
     ]
    },
    {
     "name": "stderr",
     "output_type": "stream",
     "text": [
      " 15%|█▌        | 15/100 [15:43<1:27:48, 61.99s/it]"
     ]
    },
    {
     "name": "stdout",
     "output_type": "stream",
     "text": [
      "time = 15.73 mins mins\n",
      "epoch 14 | average train loss = 7.40  and average validation loss = 7.07  |learning rate = 0.00080\n"
     ]
    },
    {
     "name": "stderr",
     "output_type": "stream",
     "text": [
      " 16%|█▌        | 16/100 [16:45<1:26:51, 62.04s/it]"
     ]
    },
    {
     "name": "stdout",
     "output_type": "stream",
     "text": [
      "time = 16.76 mins mins\n",
      "epoch 15 | average train loss = 7.33  and average validation loss = 6.89  |learning rate = 0.00080\n"
     ]
    },
    {
     "name": "stderr",
     "output_type": "stream",
     "text": [
      " 17%|█▋        | 17/100 [17:46<1:25:28, 61.79s/it]"
     ]
    },
    {
     "name": "stdout",
     "output_type": "stream",
     "text": [
      "time = 17.78 mins mins\n",
      "epoch 16 | average train loss = 7.12  and average validation loss = 6.72  |learning rate = 0.00080\n"
     ]
    },
    {
     "name": "stderr",
     "output_type": "stream",
     "text": [
      " 18%|█▊        | 18/100 [18:48<1:24:13, 61.63s/it]"
     ]
    },
    {
     "name": "stdout",
     "output_type": "stream",
     "text": [
      "time = 18.80 mins mins\n",
      "epoch 17 | average train loss = 7.03  and average validation loss = 6.74  |learning rate = 0.00080\n"
     ]
    },
    {
     "name": "stderr",
     "output_type": "stream",
     "text": [
      " 19%|█▉        | 19/100 [19:49<1:23:03, 61.53s/it]"
     ]
    },
    {
     "name": "stdout",
     "output_type": "stream",
     "text": [
      "time = 19.82 mins mins\n",
      "epoch 18 | average train loss = 6.93  and average validation loss = 6.56  |learning rate = 0.00080\n"
     ]
    },
    {
     "name": "stderr",
     "output_type": "stream",
     "text": [
      " 20%|██        | 20/100 [20:51<1:22:07, 61.60s/it]"
     ]
    },
    {
     "name": "stdout",
     "output_type": "stream",
     "text": [
      "time = 20.85 mins mins\n",
      "epoch 19 | average train loss = 6.83  and average validation loss = 6.56  |learning rate = 0.00051\n"
     ]
    },
    {
     "name": "stderr",
     "output_type": "stream",
     "text": [
      " 21%|██        | 21/100 [21:53<1:21:13, 61.69s/it]"
     ]
    },
    {
     "name": "stdout",
     "output_type": "stream",
     "text": [
      "time = 21.89 mins mins\n",
      "epoch 20 | average train loss = 6.76  and average validation loss = 6.35  |learning rate = 0.00064\n"
     ]
    },
    {
     "name": "stderr",
     "output_type": "stream",
     "text": [
      " 22%|██▏       | 22/100 [22:56<1:20:43, 62.10s/it]"
     ]
    },
    {
     "name": "stdout",
     "output_type": "stream",
     "text": [
      "time = 22.94 mins mins\n",
      "epoch 21 | average train loss = 6.70  and average validation loss = 6.33  |learning rate = 0.00064\n"
     ]
    },
    {
     "name": "stderr",
     "output_type": "stream",
     "text": [
      " 23%|██▎       | 23/100 [23:58<1:19:51, 62.22s/it]"
     ]
    },
    {
     "name": "stdout",
     "output_type": "stream",
     "text": [
      "time = 23.98 mins mins\n",
      "epoch 22 | average train loss = 6.65  and average validation loss = 6.24  |learning rate = 0.00064\n"
     ]
    },
    {
     "name": "stderr",
     "output_type": "stream",
     "text": [
      " 24%|██▍       | 24/100 [25:02<1:19:32, 62.80s/it]"
     ]
    },
    {
     "name": "stdout",
     "output_type": "stream",
     "text": [
      "time = 25.05 mins mins\n",
      "epoch 23 | average train loss = 6.62  and average validation loss = 6.20  |learning rate = 0.00064\n"
     ]
    },
    {
     "name": "stderr",
     "output_type": "stream",
     "text": [
      " 25%|██▌       | 25/100 [26:07<1:19:02, 63.23s/it]"
     ]
    },
    {
     "name": "stdout",
     "output_type": "stream",
     "text": [
      "time = 26.12 mins mins\n",
      "epoch 24 | average train loss = 6.58  and average validation loss = 6.15  |learning rate = 0.00064\n"
     ]
    },
    {
     "name": "stderr",
     "output_type": "stream",
     "text": [
      " 26%|██▌       | 26/100 [27:11<1:18:17, 63.49s/it]"
     ]
    },
    {
     "name": "stdout",
     "output_type": "stream",
     "text": [
      "time = 27.19 mins mins\n",
      "epoch 25 | average train loss = 6.53  and average validation loss = 6.09  |learning rate = 0.00064\n"
     ]
    },
    {
     "name": "stderr",
     "output_type": "stream",
     "text": [
      " 27%|██▋       | 27/100 [28:15<1:17:30, 63.70s/it]"
     ]
    },
    {
     "name": "stdout",
     "output_type": "stream",
     "text": [
      "time = 28.26 mins mins\n",
      "epoch 26 | average train loss = 6.50  and average validation loss = 6.10  |learning rate = 0.00064\n"
     ]
    },
    {
     "name": "stderr",
     "output_type": "stream",
     "text": [
      " 28%|██▊       | 28/100 [29:17<1:16:02, 63.37s/it]"
     ]
    },
    {
     "name": "stdout",
     "output_type": "stream",
     "text": [
      "time = 29.30 mins mins\n",
      "epoch 27 | average train loss = 6.45  and average validation loss = 6.09  |learning rate = 0.00064\n"
     ]
    },
    {
     "name": "stderr",
     "output_type": "stream",
     "text": [
      " 29%|██▉       | 29/100 [30:22<1:15:19, 63.66s/it]"
     ]
    },
    {
     "name": "stdout",
     "output_type": "stream",
     "text": [
      "time = 30.37 mins mins\n",
      "epoch 28 | average train loss = 6.43  and average validation loss = 5.99  |learning rate = 0.00064\n"
     ]
    },
    {
     "name": "stderr",
     "output_type": "stream",
     "text": [
      " 30%|███       | 30/100 [31:26<1:14:28, 63.84s/it]"
     ]
    },
    {
     "name": "stdout",
     "output_type": "stream",
     "text": [
      "time = 31.44 mins mins\n",
      "epoch 29 | average train loss = 6.40  and average validation loss = 5.93  |learning rate = 0.00041\n"
     ]
    },
    {
     "name": "stderr",
     "output_type": "stream",
     "text": [
      " 31%|███       | 31/100 [32:30<1:13:31, 63.94s/it]"
     ]
    },
    {
     "name": "stdout",
     "output_type": "stream",
     "text": [
      "time = 32.51 mins mins\n",
      "epoch 30 | average train loss = 6.33  and average validation loss = 5.89  |learning rate = 0.00051\n"
     ]
    },
    {
     "name": "stderr",
     "output_type": "stream",
     "text": [
      " 32%|███▏      | 32/100 [33:34<1:12:15, 63.76s/it]"
     ]
    },
    {
     "name": "stdout",
     "output_type": "stream",
     "text": [
      "time = 33.57 mins mins\n",
      "epoch 31 | average train loss = 6.27  and average validation loss = 5.87  |learning rate = 0.00051\n"
     ]
    },
    {
     "name": "stderr",
     "output_type": "stream",
     "text": [
      " 33%|███▎      | 33/100 [34:37<1:11:11, 63.75s/it]"
     ]
    },
    {
     "name": "stdout",
     "output_type": "stream",
     "text": [
      "time = 34.63 mins mins\n",
      "epoch 32 | average train loss = 6.23  and average validation loss = 5.77  |learning rate = 0.00051\n"
     ]
    },
    {
     "name": "stderr",
     "output_type": "stream",
     "text": [
      " 34%|███▍      | 34/100 [35:40<1:09:46, 63.43s/it]"
     ]
    },
    {
     "name": "stdout",
     "output_type": "stream",
     "text": [
      "time = 35.68 mins mins\n",
      "epoch 33 | average train loss = 6.19  and average validation loss = 5.72  |learning rate = 0.00051\n"
     ]
    },
    {
     "name": "stderr",
     "output_type": "stream",
     "text": [
      " 35%|███▌      | 35/100 [36:42<1:08:10, 62.92s/it]"
     ]
    },
    {
     "name": "stdout",
     "output_type": "stream",
     "text": [
      "time = 36.70 mins mins\n",
      "epoch 34 | average train loss = 6.17  and average validation loss = 5.66  |learning rate = 0.00051\n"
     ]
    },
    {
     "name": "stderr",
     "output_type": "stream",
     "text": [
      " 36%|███▌      | 36/100 [37:46<1:07:30, 63.29s/it]"
     ]
    },
    {
     "name": "stdout",
     "output_type": "stream",
     "text": [
      "time = 37.77 mins mins\n",
      "epoch 35 | average train loss = 6.13  and average validation loss = 5.72  |learning rate = 0.00051\n"
     ]
    },
    {
     "name": "stderr",
     "output_type": "stream",
     "text": [
      " 37%|███▋      | 37/100 [38:50<1:06:45, 63.58s/it]"
     ]
    },
    {
     "name": "stdout",
     "output_type": "stream",
     "text": [
      "time = 38.84 mins mins\n",
      "epoch 36 | average train loss = 6.10  and average validation loss = 5.61  |learning rate = 0.00051\n"
     ]
    },
    {
     "name": "stderr",
     "output_type": "stream",
     "text": [
      " 38%|███▊      | 38/100 [39:53<1:05:21, 63.25s/it]"
     ]
    },
    {
     "name": "stdout",
     "output_type": "stream",
     "text": [
      "time = 39.89 mins mins\n",
      "epoch 37 | average train loss = 6.06  and average validation loss = 5.56  |learning rate = 0.00051\n"
     ]
    },
    {
     "name": "stderr",
     "output_type": "stream",
     "text": [
      " 39%|███▉      | 39/100 [40:55<1:03:55, 62.88s/it]"
     ]
    },
    {
     "name": "stdout",
     "output_type": "stream",
     "text": [
      "time = 40.92 mins mins\n",
      "epoch 38 | average train loss = 6.04  and average validation loss = 5.54  |learning rate = 0.00051\n"
     ]
    },
    {
     "name": "stderr",
     "output_type": "stream",
     "text": [
      " 40%|████      | 40/100 [41:59<1:03:18, 63.31s/it]"
     ]
    },
    {
     "name": "stdout",
     "output_type": "stream",
     "text": [
      "time = 41.99 mins mins\n",
      "epoch 39 | average train loss = 6.00  and average validation loss = 5.48  |learning rate = 0.00033\n"
     ]
    },
    {
     "name": "stderr",
     "output_type": "stream",
     "text": [
      " 41%|████      | 41/100 [43:03<1:02:29, 63.55s/it]"
     ]
    },
    {
     "name": "stdout",
     "output_type": "stream",
     "text": [
      "time = 43.06 mins mins\n",
      "epoch 40 | average train loss = 5.97  and average validation loss = 5.49  |learning rate = 0.00041\n"
     ]
    },
    {
     "name": "stderr",
     "output_type": "stream",
     "text": [
      " 42%|████▏     | 42/100 [44:06<1:01:11, 63.31s/it]"
     ]
    },
    {
     "name": "stdout",
     "output_type": "stream",
     "text": [
      "time = 44.11 mins mins\n",
      "epoch 41 | average train loss = 5.96  and average validation loss = 5.46  |learning rate = 0.00041\n"
     ]
    },
    {
     "name": "stderr",
     "output_type": "stream",
     "text": [
      " 43%|████▎     | 43/100 [45:09<1:00:01, 63.19s/it]"
     ]
    },
    {
     "name": "stdout",
     "output_type": "stream",
     "text": [
      "time = 45.15 mins mins\n",
      "epoch 42 | average train loss = 5.93  and average validation loss = 5.42  |learning rate = 0.00041\n"
     ]
    },
    {
     "name": "stderr",
     "output_type": "stream",
     "text": [
      " 44%|████▍     | 44/100 [46:12<58:55, 63.13s/it]  "
     ]
    },
    {
     "name": "stdout",
     "output_type": "stream",
     "text": [
      "time = 46.20 mins mins\n",
      "epoch 43 | average train loss = 5.93  and average validation loss = 5.42  |learning rate = 0.00041\n"
     ]
    },
    {
     "name": "stderr",
     "output_type": "stream",
     "text": [
      " 46%|████▌     | 46/100 [48:17<56:32, 62.82s/it]"
     ]
    },
    {
     "name": "stdout",
     "output_type": "stream",
     "text": [
      "time = 48.29 mins mins\n",
      "epoch 45 | average train loss = 5.88  and average validation loss = 5.39  |learning rate = 0.00041\n"
     ]
    },
    {
     "name": "stderr",
     "output_type": "stream",
     "text": [
      " 47%|████▋     | 47/100 [49:18<55:04, 62.35s/it]"
     ]
    },
    {
     "name": "stdout",
     "output_type": "stream",
     "text": [
      "time = 49.31 mins mins\n",
      "epoch 46 | average train loss = 5.89  and average validation loss = 5.37  |learning rate = 0.00041\n"
     ]
    },
    {
     "name": "stderr",
     "output_type": "stream",
     "text": [
      " 48%|████▊     | 48/100 [50:21<54:00, 62.32s/it]"
     ]
    },
    {
     "name": "stdout",
     "output_type": "stream",
     "text": [
      "time = 50.35 mins mins\n",
      "epoch 47 | average train loss = 5.87  and average validation loss = 5.44  |learning rate = 0.00041\n"
     ]
    },
    {
     "name": "stderr",
     "output_type": "stream",
     "text": [
      " 49%|████▉     | 49/100 [51:24<53:16, 62.67s/it]"
     ]
    },
    {
     "name": "stdout",
     "output_type": "stream",
     "text": [
      "time = 51.41 mins mins\n",
      "epoch 48 | average train loss = 5.86  and average validation loss = 5.36  |learning rate = 0.00041\n"
     ]
    },
    {
     "name": "stderr",
     "output_type": "stream",
     "text": [
      " 50%|█████     | 50/100 [52:26<52:04, 62.48s/it]"
     ]
    },
    {
     "name": "stdout",
     "output_type": "stream",
     "text": [
      "time = 52.44 mins mins\n",
      "epoch 49 | average train loss = 5.83  and average validation loss = 5.32  |learning rate = 0.00026\n"
     ]
    },
    {
     "name": "stderr",
     "output_type": "stream",
     "text": [
      " 51%|█████     | 51/100 [53:28<50:46, 62.18s/it]"
     ]
    },
    {
     "name": "stdout",
     "output_type": "stream",
     "text": [
      "time = 53.47 mins mins\n",
      "epoch 50 | average train loss = 5.80  and average validation loss = 5.28  |learning rate = 0.00033\n"
     ]
    },
    {
     "name": "stderr",
     "output_type": "stream",
     "text": [
      " 52%|█████▏    | 52/100 [54:33<50:37, 63.27s/it]"
     ]
    },
    {
     "name": "stdout",
     "output_type": "stream",
     "text": [
      "time = 54.57 mins mins\n",
      "epoch 51 | average train loss = 5.81  and average validation loss = 5.28  |learning rate = 0.00033\n"
     ]
    },
    {
     "name": "stderr",
     "output_type": "stream",
     "text": [
      " 53%|█████▎    | 53/100 [55:41<50:29, 64.46s/it]"
     ]
    },
    {
     "name": "stdout",
     "output_type": "stream",
     "text": [
      "time = 55.69 mins mins\n",
      "epoch 52 | average train loss = 5.79  and average validation loss = 5.31  |learning rate = 0.00033\n"
     ]
    },
    {
     "name": "stderr",
     "output_type": "stream",
     "text": [
      " 54%|█████▍    | 54/100 [56:44<49:06, 64.04s/it]"
     ]
    },
    {
     "name": "stdout",
     "output_type": "stream",
     "text": [
      "time = 56.74 mins mins\n",
      "epoch 53 | average train loss = 5.78  and average validation loss = 5.28  |learning rate = 0.00033\n"
     ]
    },
    {
     "name": "stderr",
     "output_type": "stream",
     "text": [
      " 55%|█████▌    | 55/100 [57:46<47:32, 63.40s/it]"
     ]
    },
    {
     "name": "stdout",
     "output_type": "stream",
     "text": [
      "time = 57.77 mins mins\n",
      "epoch 54 | average train loss = 5.77  and average validation loss = 5.24  |learning rate = 0.00033\n"
     ]
    },
    {
     "name": "stderr",
     "output_type": "stream",
     "text": [
      " 56%|█████▌    | 56/100 [58:49<46:28, 63.37s/it]"
     ]
    },
    {
     "name": "stdout",
     "output_type": "stream",
     "text": [
      "time = 58.82 mins mins\n",
      "epoch 55 | average train loss = 5.77  and average validation loss = 5.25  |learning rate = 0.00033\n"
     ]
    },
    {
     "name": "stderr",
     "output_type": "stream",
     "text": [
      " 57%|█████▋    | 57/100 [59:51<45:10, 63.04s/it]"
     ]
    },
    {
     "name": "stdout",
     "output_type": "stream",
     "text": [
      "time = 59.86 mins mins\n",
      "epoch 56 | average train loss = 5.75  and average validation loss = 5.31  |learning rate = 0.00033\n"
     ]
    },
    {
     "name": "stderr",
     "output_type": "stream",
     "text": [
      " 58%|█████▊    | 58/100 [1:00:53<43:55, 62.74s/it]"
     ]
    },
    {
     "name": "stdout",
     "output_type": "stream",
     "text": [
      "time = 60.90 mins mins\n",
      "epoch 57 | average train loss = 5.75  and average validation loss = 5.30  |learning rate = 0.00033\n"
     ]
    },
    {
     "name": "stderr",
     "output_type": "stream",
     "text": [
      " 59%|█████▉    | 59/100 [1:01:56<42:50, 62.69s/it]"
     ]
    },
    {
     "name": "stdout",
     "output_type": "stream",
     "text": [
      "time = 61.94 mins mins\n",
      "epoch 58 | average train loss = 5.73  and average validation loss = 5.18  |learning rate = 0.00033\n"
     ]
    },
    {
     "name": "stderr",
     "output_type": "stream",
     "text": [
      " 60%|██████    | 60/100 [1:03:00<42:08, 63.21s/it]"
     ]
    },
    {
     "name": "stdout",
     "output_type": "stream",
     "text": [
      "time = 63.01 mins mins\n",
      "epoch 59 | average train loss = 5.72  and average validation loss = 5.19  |learning rate = 0.00021\n"
     ]
    },
    {
     "name": "stderr",
     "output_type": "stream",
     "text": [
      " 61%|██████    | 61/100 [1:04:05<41:28, 63.80s/it]"
     ]
    },
    {
     "name": "stdout",
     "output_type": "stream",
     "text": [
      "time = 64.10 mins mins\n",
      "epoch 60 | average train loss = 5.70  and average validation loss = 5.19  |learning rate = 0.00026\n"
     ]
    },
    {
     "name": "stderr",
     "output_type": "stream",
     "text": [
      " 62%|██████▏   | 62/100 [1:05:10<40:31, 63.99s/it]"
     ]
    },
    {
     "name": "stdout",
     "output_type": "stream",
     "text": [
      "time = 65.17 mins mins\n",
      "epoch 61 | average train loss = 5.68  and average validation loss = 5.20  |learning rate = 0.00026\n"
     ]
    },
    {
     "name": "stderr",
     "output_type": "stream",
     "text": [
      " 63%|██████▎   | 63/100 [1:06:12<39:04, 63.35s/it]"
     ]
    },
    {
     "name": "stdout",
     "output_type": "stream",
     "text": [
      "time = 66.20 mins mins\n",
      "epoch 62 | average train loss = 5.69  and average validation loss = 5.15  |learning rate = 0.00026\n"
     ]
    },
    {
     "name": "stderr",
     "output_type": "stream",
     "text": [
      " 64%|██████▍   | 64/100 [1:07:14<37:44, 62.91s/it]"
     ]
    },
    {
     "name": "stdout",
     "output_type": "stream",
     "text": [
      "time = 67.23 mins mins\n",
      "epoch 63 | average train loss = 5.68  and average validation loss = 5.18  |learning rate = 0.00026\n"
     ]
    },
    {
     "name": "stderr",
     "output_type": "stream",
     "text": [
      " 65%|██████▌   | 65/100 [1:08:15<36:26, 62.47s/it]"
     ]
    },
    {
     "name": "stdout",
     "output_type": "stream",
     "text": [
      "time = 68.26 mins mins\n",
      "epoch 64 | average train loss = 5.66  and average validation loss = 5.15  |learning rate = 0.00026\n"
     ]
    },
    {
     "name": "stderr",
     "output_type": "stream",
     "text": [
      " 66%|██████▌   | 66/100 [1:09:17<35:19, 62.32s/it]"
     ]
    },
    {
     "name": "stdout",
     "output_type": "stream",
     "text": [
      "time = 69.29 mins mins\n",
      "epoch 65 | average train loss = 5.66  and average validation loss = 5.09  |learning rate = 0.00026\n"
     ]
    },
    {
     "name": "stderr",
     "output_type": "stream",
     "text": [
      " 67%|██████▋   | 67/100 [1:10:19<34:10, 62.15s/it]"
     ]
    },
    {
     "name": "stdout",
     "output_type": "stream",
     "text": [
      "time = 70.32 mins mins\n",
      "epoch 66 | average train loss = 5.64  and average validation loss = 5.10  |learning rate = 0.00026\n"
     ]
    },
    {
     "name": "stderr",
     "output_type": "stream",
     "text": [
      " 68%|██████▊   | 68/100 [1:11:20<33:04, 62.03s/it]"
     ]
    },
    {
     "name": "stdout",
     "output_type": "stream",
     "text": [
      "time = 71.35 mins mins\n",
      "epoch 67 | average train loss = 5.63  and average validation loss = 5.09  |learning rate = 0.00026\n"
     ]
    },
    {
     "name": "stderr",
     "output_type": "stream",
     "text": [
      " 69%|██████▉   | 69/100 [1:12:22<31:58, 61.87s/it]"
     ]
    },
    {
     "name": "stdout",
     "output_type": "stream",
     "text": [
      "time = 72.38 mins mins\n",
      "epoch 68 | average train loss = 5.63  and average validation loss = 5.12  |learning rate = 0.00026\n"
     ]
    },
    {
     "name": "stderr",
     "output_type": "stream",
     "text": [
      " 70%|███████   | 70/100 [1:13:23<30:52, 61.74s/it]"
     ]
    },
    {
     "name": "stdout",
     "output_type": "stream",
     "text": [
      "time = 73.40 mins mins\n",
      "epoch 69 | average train loss = 5.62  and average validation loss = 5.14  |learning rate = 0.00017\n"
     ]
    },
    {
     "name": "stderr",
     "output_type": "stream",
     "text": [
      " 71%|███████   | 71/100 [1:14:28<30:12, 62.48s/it]"
     ]
    },
    {
     "name": "stdout",
     "output_type": "stream",
     "text": [
      "time = 74.47 mins mins\n",
      "epoch 70 | average train loss = 5.60  and average validation loss = 5.06  |learning rate = 0.00021\n"
     ]
    },
    {
     "name": "stderr",
     "output_type": "stream",
     "text": [
      " 72%|███████▏  | 72/100 [1:15:32<29:23, 62.97s/it]"
     ]
    },
    {
     "name": "stdout",
     "output_type": "stream",
     "text": [
      "time = 75.54 mins mins\n",
      "epoch 71 | average train loss = 5.60  and average validation loss = 5.08  |learning rate = 0.00021\n"
     ]
    },
    {
     "name": "stderr",
     "output_type": "stream",
     "text": [
      " 73%|███████▎  | 73/100 [1:16:34<28:10, 62.63s/it]"
     ]
    },
    {
     "name": "stdout",
     "output_type": "stream",
     "text": [
      "time = 76.57 mins mins\n",
      "epoch 72 | average train loss = 5.59  and average validation loss = 5.04  |learning rate = 0.00021\n"
     ]
    },
    {
     "name": "stderr",
     "output_type": "stream",
     "text": [
      " 74%|███████▍  | 74/100 [1:17:35<27:01, 62.36s/it]"
     ]
    },
    {
     "name": "stdout",
     "output_type": "stream",
     "text": [
      "time = 77.60 mins mins\n",
      "epoch 73 | average train loss = 5.58  and average validation loss = 5.04  |learning rate = 0.00021\n"
     ]
    },
    {
     "name": "stderr",
     "output_type": "stream",
     "text": [
      " 75%|███████▌  | 75/100 [1:18:37<25:56, 62.25s/it]"
     ]
    },
    {
     "name": "stdout",
     "output_type": "stream",
     "text": [
      "time = 78.63 mins mins\n",
      "epoch 74 | average train loss = 5.57  and average validation loss = 5.07  |learning rate = 0.00021\n"
     ]
    },
    {
     "name": "stderr",
     "output_type": "stream",
     "text": [
      " 76%|███████▌  | 76/100 [1:19:38<24:45, 61.90s/it]"
     ]
    },
    {
     "name": "stdout",
     "output_type": "stream",
     "text": [
      "time = 79.65 mins mins\n",
      "epoch 75 | average train loss = 5.58  and average validation loss = 5.04  |learning rate = 0.00021\n"
     ]
    },
    {
     "name": "stderr",
     "output_type": "stream",
     "text": [
      " 77%|███████▋  | 77/100 [1:20:39<23:38, 61.66s/it]"
     ]
    },
    {
     "name": "stdout",
     "output_type": "stream",
     "text": [
      "time = 80.67 mins mins\n",
      "epoch 76 | average train loss = 5.57  and average validation loss = 5.06  |learning rate = 0.00021\n"
     ]
    },
    {
     "name": "stderr",
     "output_type": "stream",
     "text": [
      " 78%|███████▊  | 78/100 [1:21:40<22:31, 61.43s/it]"
     ]
    },
    {
     "name": "stdout",
     "output_type": "stream",
     "text": [
      "time = 81.68 mins mins\n",
      "epoch 77 | average train loss = 5.56  and average validation loss = 5.02  |learning rate = 0.00021\n"
     ]
    },
    {
     "name": "stderr",
     "output_type": "stream",
     "text": [
      " 79%|███████▉  | 79/100 [1:22:41<21:24, 61.18s/it]"
     ]
    },
    {
     "name": "stdout",
     "output_type": "stream",
     "text": [
      "time = 82.69 mins mins\n",
      "epoch 78 | average train loss = 5.56  and average validation loss = 5.00  |learning rate = 0.00021\n"
     ]
    },
    {
     "name": "stderr",
     "output_type": "stream",
     "text": [
      " 80%|████████  | 80/100 [1:23:45<20:37, 61.90s/it]"
     ]
    },
    {
     "name": "stdout",
     "output_type": "stream",
     "text": [
      "time = 83.75 mins mins\n",
      "epoch 79 | average train loss = 5.55  and average validation loss = 5.13  |learning rate = 0.00013\n"
     ]
    },
    {
     "name": "stderr",
     "output_type": "stream",
     "text": [
      " 81%|████████  | 81/100 [1:24:48<19:43, 62.29s/it]"
     ]
    },
    {
     "name": "stdout",
     "output_type": "stream",
     "text": [
      "time = 84.80 mins mins\n",
      "epoch 80 | average train loss = 5.54  and average validation loss = 5.00  |learning rate = 0.00017\n"
     ]
    },
    {
     "name": "stderr",
     "output_type": "stream",
     "text": [
      " 82%|████████▏ | 82/100 [1:25:50<18:39, 62.20s/it]"
     ]
    },
    {
     "name": "stdout",
     "output_type": "stream",
     "text": [
      "time = 85.84 mins mins\n",
      "epoch 81 | average train loss = 5.53  and average validation loss = 4.99  |learning rate = 0.00017\n"
     ]
    },
    {
     "name": "stderr",
     "output_type": "stream",
     "text": [
      " 83%|████████▎ | 83/100 [1:26:50<17:26, 61.53s/it]"
     ]
    },
    {
     "name": "stdout",
     "output_type": "stream",
     "text": [
      "time = 86.84 mins mins\n",
      "epoch 82 | average train loss = 5.51  and average validation loss = 4.98  |learning rate = 0.00017\n"
     ]
    },
    {
     "name": "stderr",
     "output_type": "stream",
     "text": [
      " 84%|████████▍ | 84/100 [1:27:49<16:15, 60.97s/it]"
     ]
    },
    {
     "name": "stdout",
     "output_type": "stream",
     "text": [
      "time = 87.83 mins mins\n",
      "epoch 83 | average train loss = 5.53  and average validation loss = 4.97  |learning rate = 0.00017\n"
     ]
    },
    {
     "name": "stderr",
     "output_type": "stream",
     "text": [
      " 85%|████████▌ | 85/100 [1:28:49<15:08, 60.54s/it]"
     ]
    },
    {
     "name": "stdout",
     "output_type": "stream",
     "text": [
      "time = 88.82 mins mins\n",
      "epoch 84 | average train loss = 5.50  and average validation loss = 4.96  |learning rate = 0.00017\n"
     ]
    },
    {
     "name": "stderr",
     "output_type": "stream",
     "text": [
      " 86%|████████▌ | 86/100 [1:29:50<14:08, 60.60s/it]"
     ]
    },
    {
     "name": "stdout",
     "output_type": "stream",
     "text": [
      "time = 89.84 mins mins\n",
      "epoch 85 | average train loss = 5.51  and average validation loss = 4.99  |learning rate = 0.00017\n"
     ]
    },
    {
     "name": "stderr",
     "output_type": "stream",
     "text": [
      " 87%|████████▋ | 87/100 [1:30:49<13:03, 60.26s/it]"
     ]
    },
    {
     "name": "stdout",
     "output_type": "stream",
     "text": [
      "time = 90.83 mins mins\n",
      "epoch 86 | average train loss = 5.51  and average validation loss = 4.97  |learning rate = 0.00017\n"
     ]
    },
    {
     "name": "stderr",
     "output_type": "stream",
     "text": [
      " 88%|████████▊ | 88/100 [1:31:49<12:01, 60.13s/it]"
     ]
    },
    {
     "name": "stdout",
     "output_type": "stream",
     "text": [
      "time = 91.82 mins mins\n",
      "epoch 87 | average train loss = 5.49  and average validation loss = 4.98  |learning rate = 0.00017\n"
     ]
    },
    {
     "name": "stderr",
     "output_type": "stream",
     "text": [
      " 89%|████████▉ | 89/100 [1:32:49<10:59, 59.96s/it]"
     ]
    },
    {
     "name": "stdout",
     "output_type": "stream",
     "text": [
      "time = 92.82 mins mins\n",
      "epoch 88 | average train loss = 5.50  and average validation loss = 4.96  |learning rate = 0.00017\n"
     ]
    },
    {
     "name": "stderr",
     "output_type": "stream",
     "text": [
      " 90%|█████████ | 90/100 [1:33:48<09:58, 59.82s/it]"
     ]
    },
    {
     "name": "stdout",
     "output_type": "stream",
     "text": [
      "time = 93.81 mins mins\n",
      "epoch 89 | average train loss = 5.49  and average validation loss = 4.95  |learning rate = 0.00011\n"
     ]
    },
    {
     "name": "stderr",
     "output_type": "stream",
     "text": [
      " 91%|█████████ | 91/100 [1:34:48<08:57, 59.72s/it]"
     ]
    },
    {
     "name": "stdout",
     "output_type": "stream",
     "text": [
      "time = 94.80 mins mins\n",
      "epoch 90 | average train loss = 5.47  and average validation loss = 4.93  |learning rate = 0.00013\n"
     ]
    },
    {
     "name": "stderr",
     "output_type": "stream",
     "text": [
      " 92%|█████████▏| 92/100 [1:35:47<07:57, 59.64s/it]"
     ]
    },
    {
     "name": "stdout",
     "output_type": "stream",
     "text": [
      "time = 95.79 mins mins\n",
      "epoch 91 | average train loss = 5.47  and average validation loss = 4.98  |learning rate = 0.00013\n"
     ]
    },
    {
     "name": "stderr",
     "output_type": "stream",
     "text": [
      " 93%|█████████▎| 93/100 [1:36:46<06:57, 59.59s/it]"
     ]
    },
    {
     "name": "stdout",
     "output_type": "stream",
     "text": [
      "time = 96.78 mins mins\n",
      "epoch 92 | average train loss = 5.46  and average validation loss = 4.97  |learning rate = 0.00013\n"
     ]
    },
    {
     "name": "stderr",
     "output_type": "stream",
     "text": [
      " 94%|█████████▍| 94/100 [1:37:46<05:57, 59.56s/it]"
     ]
    },
    {
     "name": "stdout",
     "output_type": "stream",
     "text": [
      "time = 97.77 mins mins\n",
      "epoch 93 | average train loss = 5.46  and average validation loss = 4.98  |learning rate = 0.00013\n"
     ]
    },
    {
     "name": "stderr",
     "output_type": "stream",
     "text": [
      " 95%|█████████▌| 95/100 [1:38:45<04:57, 59.53s/it]"
     ]
    },
    {
     "name": "stdout",
     "output_type": "stream",
     "text": [
      "time = 98.76 mins mins\n",
      "epoch 94 | average train loss = 5.46  and average validation loss = 4.95  |learning rate = 0.00013\n"
     ]
    },
    {
     "name": "stderr",
     "output_type": "stream",
     "text": [
      " 96%|█████████▌| 96/100 [1:39:45<03:58, 59.51s/it]"
     ]
    },
    {
     "name": "stdout",
     "output_type": "stream",
     "text": [
      "time = 99.76 mins mins\n",
      "epoch 95 | average train loss = 5.45  and average validation loss = 4.92  |learning rate = 0.00013\n"
     ]
    },
    {
     "name": "stderr",
     "output_type": "stream",
     "text": [
      " 97%|█████████▋| 97/100 [1:40:45<02:59, 59.69s/it]"
     ]
    },
    {
     "name": "stdout",
     "output_type": "stream",
     "text": [
      "time = 100.76 mins mins\n",
      "epoch 96 | average train loss = 5.46  and average validation loss = 4.92  |learning rate = 0.00013\n"
     ]
    },
    {
     "name": "stderr",
     "output_type": "stream",
     "text": [
      " 98%|█████████▊| 98/100 [1:41:45<01:59, 59.92s/it]"
     ]
    },
    {
     "name": "stdout",
     "output_type": "stream",
     "text": [
      "time = 101.76 mins mins\n",
      "epoch 97 | average train loss = 5.44  and average validation loss = 4.91  |learning rate = 0.00013\n"
     ]
    },
    {
     "name": "stderr",
     "output_type": "stream",
     "text": [
      " 99%|█████████▉| 99/100 [1:42:45<00:59, 59.78s/it]"
     ]
    },
    {
     "name": "stdout",
     "output_type": "stream",
     "text": [
      "time = 102.76 mins mins\n",
      "epoch 98 | average train loss = 5.43  and average validation loss = 4.92  |learning rate = 0.00013\n"
     ]
    },
    {
     "name": "stderr",
     "output_type": "stream",
     "text": [
      "100%|██████████| 100/100 [1:43:44<00:00, 62.25s/it]"
     ]
    },
    {
     "name": "stdout",
     "output_type": "stream",
     "text": [
      "time = 103.75 mins mins\n",
      "epoch 99 | average train loss = 5.43  and average validation loss = 4.92  |learning rate = 0.00013\n"
     ]
    },
    {
     "name": "stderr",
     "output_type": "stream",
     "text": [
      "\n"
     ]
    }
   ],
   "source": [
    "trainer.train_val(train_loader, val_loader, optimizer,\n",
    "                  RMSE, scheduler, num_epochs, write_every=1, train_graphnet=True)"
   ]
  },
  {
   "cell_type": "code",
   "execution_count": null,
   "id": "d72ddda3-87ce-4178-b987-60f2fb30cea3",
   "metadata": {},
   "outputs": [],
   "source": []
  },
  {
   "cell_type": "code",
   "execution_count": null,
   "id": "7bfb4551-b22d-44c7-833b-e372ab87d92e",
   "metadata": {},
   "outputs": [],
   "source": []
  },
  {
   "cell_type": "code",
   "execution_count": null,
   "id": "642de4bd-4ef2-417d-97cf-e9afd4f83863",
   "metadata": {},
   "outputs": [],
   "source": []
  },
  {
   "cell_type": "code",
   "execution_count": null,
   "id": "74c512b2-f494-4beb-9125-83af3761fe18",
   "metadata": {},
   "outputs": [],
   "source": []
  }
 ],
 "metadata": {
  "kernelspec": {
   "display_name": "PyG",
   "language": "python",
   "name": "pyg"
  },
  "language_info": {
   "codemirror_mode": {
    "name": "ipython",
    "version": 3
   },
   "file_extension": ".py",
   "mimetype": "text/x-python",
   "name": "python",
   "nbconvert_exporter": "python",
   "pygments_lexer": "ipython3",
   "version": "3.8.12"
  }
 },
 "nbformat": 4,
 "nbformat_minor": 5
}
