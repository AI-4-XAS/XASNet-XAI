{
 "cells": [
  {
   "cell_type": "code",
   "execution_count": 4,
   "id": "f2c6ee85-7173-4f5d-b627-9bc80d8a7212",
   "metadata": {},
   "outputs": [],
   "source": [
    "import sys\n",
    "sys.path.append('/p/home/jusers/kotobi2/juwels/hida_project/')"
   ]
  },
  {
   "cell_type": "code",
   "execution_count": 5,
   "id": "efbf501c-bcb4-4870-a33d-ae59a99daebd",
   "metadata": {},
   "outputs": [],
   "source": [
    "import os.path as osp\n",
    "import os\n",
    "\n",
    "from attribution_gnn1.QM9_SpecData import QM9_SpecData\n",
    "from attribution_gnn1.split import save_split\n",
    "from attribution_gnn1.SpectraGNN import SpectraGNN\n",
    "from attribution_gnn1.trainer import batch_train, batch_val\n",
    "from attribution_gnn2.SpectraGAT import SpectraGAT\n",
    "\n",
    "\n",
    "\n",
    "import numpy as np\n",
    "import torch\n",
    "from torch_geometric.loader import DataLoader\n",
    "\n",
    "import matplotlib.pyplot as plt\n",
    "import seaborn as sns\n",
    "sns.set(style='white', palette='muted', font_scale=1.5)\n",
    "\n",
    "from pylab import rc, rcParams\n",
    "rc('text', usetex=False)\n",
    "rc('axes', linewidth=2) \n",
    "rc('font', weight='normal')\n",
    "\n",
    "params = {'legend.fontsize': 15,\n",
    "          'figure.figsize': (10, 8),}\n",
    "rcParams.update(params)"
   ]
  },
  {
   "cell_type": "code",
   "execution_count": 6,
   "id": "1001c637-a6a4-4291-9e54-5f4b5826b63d",
   "metadata": {},
   "outputs": [],
   "source": [
    "num_epochs = 2000\n",
    "device = 'cuda' if torch.cuda.is_available() else 'cpu'\n",
    "model_name = 'spectragnn_20k.pt'"
   ]
  },
  {
   "cell_type": "markdown",
   "id": "518186d4-8435-4393-9eb4-209b942bc812",
   "metadata": {},
   "source": [
    "# QM9_SpecData dataset class"
   ]
  },
  {
   "cell_type": "code",
   "execution_count": 42,
   "id": "8cc0f39f-7fb0-4db3-bdb2-4d1f5c4286ac",
   "metadata": {
    "tags": []
   },
   "outputs": [
    {
     "name": "stderr",
     "output_type": "stream",
     "text": [
      "  0%|          | 0/133885 [00:00<?, ?it/s]/p/home/jusers/kotobi2/juwels/hida_project/attribution_gnn1/QM9_SpecData.py:164: UserWarning: To copy construct from a tensor, it is recommended to use sourceTensor.clone().detach() or sourceTensor.clone().detach().requires_grad_(True), rather than torch.tensor(sourceTensor).\n",
      "  spectrum = torch.tensor(self.spectra[i], dtype=torch.float)\n",
      "[10:06:28] Warning: molecule is tagged as 3D, but all Z coords are zero\n",
      "  0%|          | 449/133885 [00:00<01:01, 2166.95it/s][10:06:28] Warning: molecule is tagged as 3D, but all Z coords are zero\n",
      " 37%|███▋      | 50000/133885 [00:25<00:43, 1944.89it/s]\n"
     ]
    }
   ],
   "source": [
    "root = '/p/home/jusers/kotobi2/juwels/data_qm9/qm9_spec_50k.pt'\n",
    "qm9_spec = QM9_SpecData(root=root,\n",
    "             raw_dir='/p/home/jusers/kotobi2/juwels/data_qm9/raw/',\n",
    "             spectra=broadened_spectra_stk)\n",
    "\n",
    "if not osp.exists(root):\n",
    "    torch.save(qm9_spec, root)"
   ]
  },
  {
   "cell_type": "markdown",
   "id": "8ce69b49-8c75-4873-8f69-080522721579",
   "metadata": {},
   "source": [
    "# splitting the data"
   ]
  },
  {
   "cell_type": "code",
   "execution_count": 69,
   "id": "d62ac14c-49a2-4ecc-aa0a-2b7477818917",
   "metadata": {},
   "outputs": [
    {
     "name": "stdout",
     "output_type": "stream",
     "text": [
      "{'train': 40000, 'val': 6000, 'test': 4000}\n"
     ]
    }
   ],
   "source": [
    "idxs = save_split(\n",
    "    path='./data/split_files/qm9_split_50k.npz',\n",
    "    ndata=len(qm9_spec),\n",
    "    ntrain=40000,\n",
    "    nval=6000,\n",
    "    save_split=True,\n",
    "    shuffle=True, \n",
    "    print_nsample=True\n",
    ")"
   ]
  },
  {
   "cell_type": "code",
   "execution_count": null,
   "id": "952757c8-6b2c-4666-9a3a-ba7382c8eb29",
   "metadata": {},
   "outputs": [],
   "source": [
    "#train, val and test data\n",
    "train_qm9 = qm9_spec[idxs['train']]\n",
    "val_qm9 = qm9_spec[idxs['val']]\n",
    "test_qm9 = qm9_spec[idxs['test']]"
   ]
  },
  {
   "cell_type": "code",
   "execution_count": 6,
   "id": "00343627-6ba2-4fa6-b4fc-e0a4dd26a218",
   "metadata": {},
   "outputs": [],
   "source": [
    "# data loaders \n",
    "train_loader = DataLoader(train_qm9, batch_size=100, shuffle=True)\n",
    "val_loader = DataLoader(val_qm9, batch_size=100, shuffle=True)\n",
    "test_loader = DataLoader(test_qm9, batch_size=100)"
   ]
  },
  {
   "cell_type": "code",
   "execution_count": null,
   "id": "7a5782cb-eb47-46f1-ad1d-3f917b90bec6",
   "metadata": {},
   "outputs": [],
   "source": []
  },
  {
   "cell_type": "markdown",
   "id": "fcbcf1b4-0246-46d9-936e-7ba55ae825b0",
   "metadata": {},
   "source": [
    "# SpectraGNN "
   ]
  },
  {
   "cell_type": "code",
   "execution_count": 7,
   "id": "2bbf1566-9543-4f75-a0ac-496f758167cc",
   "metadata": {
    "tags": []
   },
   "outputs": [],
   "source": [
    "spectragnn = SpectraGNN(\n",
    "    gnn_name='gatv2',\n",
    "    in_channels=[11, 128, 256, 512],\n",
    "    out_channels=[128, 256, 512, 600],\n",
    "    num_targets=100,\n",
    "    num_layers=4,\n",
    "    heads=3\n",
    ").to(device)"
   ]
  },
  {
   "cell_type": "code",
   "execution_count": 8,
   "id": "1aa3f963-dbb2-4d64-9c28-69e9a41d6967",
   "metadata": {
    "tags": []
   },
   "outputs": [
    {
     "name": "stdout",
     "output_type": "stream",
     "text": [
      "model is not loaded\n"
     ]
    }
   ],
   "source": [
    "# loading the saved model \n",
    "path_to_saved_model = './best_model/spectragnn_20k.pt'\n",
    "if osp.exists(path_to_saved_model):\n",
    "    spectragnn.load_state_dict(torch.load(path_to_saved_model))\n",
    "else:\n",
    "    print('model is not loaded')\n",
    "\n",
    "\n",
    "optimizer = torch.optim.AdamW(spectragnn.parameters(), lr=1e-4)\n",
    "loss_fn = torch.nn.L1Loss()\n",
    "scheduler = torch.optim.lr_scheduler.MultiStepLR(optimizer, \n",
    "                                                 milestones=np.arange(800, 6000, 500).tolist(),\n",
    "                                                 gamma=0.8)\n",
    "#scheduler = torch.optim.lr_scheduler.ReduceLROnPlateau(optimizer,\n",
    " #                                                      factor=0.8,\n",
    "  #                                                     patience=10)"
   ]
  },
  {
   "cell_type": "code",
   "execution_count": 9,
   "id": "3a2e0c10-2dd7-4077-b845-5b4743878772",
   "metadata": {},
   "outputs": [
    {
     "data": {
      "text/plain": [
       "SpectraGNN(\n",
       "  (interaction_layers): ModuleList(\n",
       "    (0): GATv2Conv(11, 128, heads=3)\n",
       "    (1): ReLU(inplace=True)\n",
       "    (2): GATv2Conv(384, 256, heads=3)\n",
       "    (3): ReLU(inplace=True)\n",
       "    (4): GATv2Conv(768, 512, heads=3)\n",
       "    (5): ReLU(inplace=True)\n",
       "    (6): GATv2Conv(1536, 600, heads=1)\n",
       "  )\n",
       "  (dropout): Dropout(p=0.3, inplace=False)\n",
       "  (out): Linear(in_features=600, out_features=100, bias=True)\n",
       ")"
      ]
     },
     "execution_count": 9,
     "metadata": {},
     "output_type": "execute_result"
    }
   ],
   "source": [
    "spectragnn"
   ]
  },
  {
   "cell_type": "markdown",
   "id": "7ce889b2-da51-4128-82ec-e8ce20c0f247",
   "metadata": {},
   "source": [
    "# SpectraGAT"
   ]
  },
  {
   "cell_type": "code",
   "execution_count": 7,
   "id": "d2cefe34-3e81-46b7-9ad7-6151b469028b",
   "metadata": {
    "tags": []
   },
   "outputs": [],
   "source": [
    "spectragat = SpectraGAT(\n",
    "    node_features_dim=11,\n",
    "    in_channels=[64, 128, 256, 512],\n",
    "    out_channels=[128, 256, 512, 400],\n",
    "    targets=100,\n",
    "    n_layers=4,\n",
    "    n_heads=3,\n",
    "    use_residuals=True\n",
    ").to(device)"
   ]
  },
  {
   "cell_type": "code",
   "execution_count": 8,
   "id": "b4b07510-609b-4b09-963b-0b59a429e274",
   "metadata": {
    "tags": []
   },
   "outputs": [
    {
     "name": "stdout",
     "output_type": "stream",
     "text": [
      "model is not loaded\n"
     ]
    }
   ],
   "source": [
    "# loading the saved model \n",
    "path_to_saved_model = './best_model/spectragat_20k.pt'\n",
    "if osp.exists(path_to_saved_model):\n",
    "    spectragat.load_state_dict(torch.load(path_to_saved_model))\n",
    "else:\n",
    "    print('model is not loaded')\n",
    "\n",
    "optimizer = torch.optim.AdamW(spectragat.parameters(), lr=4e-4)\n",
    "loss_fn = torch.nn.L1Loss()\n",
    "scheduler = torch.optim.lr_scheduler.MultiStepLR(optimizer, \n",
    "                                                 milestones=np.arange(500, 5000, 500).tolist(),\n",
    "                                                 gamma=0.8)"
   ]
  },
  {
   "cell_type": "code",
   "execution_count": 9,
   "id": "8d5bb953-2197-4ce6-9223-e539485ed02c",
   "metadata": {
    "collapsed": true,
    "jupyter": {
     "outputs_hidden": true
    },
    "tags": []
   },
   "outputs": [
    {
     "data": {
      "text/plain": [
       "SpectraGAT(\n",
       "  (pre_layer): LinearLayer(\n",
       "    (linear): Linear(in_features=11, out_features=64, bias=False)\n",
       "    (_activation): ReLU(inplace=True)\n",
       "  )\n",
       "  (res_block): Residual_block(\n",
       "    (res_layers): Sequential(\n",
       "      (0): LinearLayer(\n",
       "        (linear): Linear(in_features=64, out_features=64, bias=False)\n",
       "        (_activation): ReLU(inplace=True)\n",
       "      )\n",
       "      (1): LinearLayer(\n",
       "        (linear): Linear(in_features=64, out_features=64, bias=False)\n",
       "        (_activation): ReLU(inplace=True)\n",
       "      )\n",
       "      (2): LinearLayer(\n",
       "        (linear): Linear(in_features=64, out_features=64, bias=False)\n",
       "        (_activation): ReLU(inplace=True)\n",
       "      )\n",
       "    )\n",
       "  )\n",
       "  (gat_layers): ModuleList(\n",
       "    (0): GATLayerCus(\n",
       "      (lin_r): LinearLayer(\n",
       "        (linear): Linear(in_features=64, out_features=384, bias=False)\n",
       "        (_activation): Identity()\n",
       "      )\n",
       "      (lin_l): LinearLayer(\n",
       "        (linear): Linear(in_features=64, out_features=384, bias=False)\n",
       "        (_activation): Identity()\n",
       "      )\n",
       "      (res_block): Residual_block(\n",
       "        (res_layers): Sequential(\n",
       "          (0): LinearLayer(\n",
       "            (linear): Linear(in_features=128, out_features=128, bias=False)\n",
       "            (_activation): ReLU(inplace=True)\n",
       "          )\n",
       "          (1): LinearLayer(\n",
       "            (linear): Linear(in_features=128, out_features=128, bias=False)\n",
       "            (_activation): ReLU(inplace=True)\n",
       "          )\n",
       "          (2): LinearLayer(\n",
       "            (linear): Linear(in_features=128, out_features=128, bias=False)\n",
       "            (_activation): ReLU(inplace=True)\n",
       "          )\n",
       "        )\n",
       "      )\n",
       "    )\n",
       "    (1): ReLU(inplace=True)\n",
       "    (2): GATLayerCus(\n",
       "      (lin_r): LinearLayer(\n",
       "        (linear): Linear(in_features=384, out_features=768, bias=False)\n",
       "        (_activation): Identity()\n",
       "      )\n",
       "      (lin_l): LinearLayer(\n",
       "        (linear): Linear(in_features=384, out_features=768, bias=False)\n",
       "        (_activation): Identity()\n",
       "      )\n",
       "      (res_block): Residual_block(\n",
       "        (res_layers): Sequential(\n",
       "          (0): LinearLayer(\n",
       "            (linear): Linear(in_features=256, out_features=256, bias=False)\n",
       "            (_activation): ReLU(inplace=True)\n",
       "          )\n",
       "          (1): LinearLayer(\n",
       "            (linear): Linear(in_features=256, out_features=256, bias=False)\n",
       "            (_activation): ReLU(inplace=True)\n",
       "          )\n",
       "          (2): LinearLayer(\n",
       "            (linear): Linear(in_features=256, out_features=256, bias=False)\n",
       "            (_activation): ReLU(inplace=True)\n",
       "          )\n",
       "        )\n",
       "      )\n",
       "    )\n",
       "    (3): ReLU(inplace=True)\n",
       "    (4): GATLayerCus(\n",
       "      (lin_r): LinearLayer(\n",
       "        (linear): Linear(in_features=768, out_features=1536, bias=False)\n",
       "        (_activation): Identity()\n",
       "      )\n",
       "      (lin_l): LinearLayer(\n",
       "        (linear): Linear(in_features=768, out_features=1536, bias=False)\n",
       "        (_activation): Identity()\n",
       "      )\n",
       "      (res_block): Residual_block(\n",
       "        (res_layers): Sequential(\n",
       "          (0): LinearLayer(\n",
       "            (linear): Linear(in_features=512, out_features=512, bias=False)\n",
       "            (_activation): ReLU(inplace=True)\n",
       "          )\n",
       "          (1): LinearLayer(\n",
       "            (linear): Linear(in_features=512, out_features=512, bias=False)\n",
       "            (_activation): ReLU(inplace=True)\n",
       "          )\n",
       "          (2): LinearLayer(\n",
       "            (linear): Linear(in_features=512, out_features=512, bias=False)\n",
       "            (_activation): ReLU(inplace=True)\n",
       "          )\n",
       "        )\n",
       "      )\n",
       "    )\n",
       "    (5): ReLU(inplace=True)\n",
       "    (6): GATLayerCus(\n",
       "      (lin_r): LinearLayer(\n",
       "        (linear): Linear(in_features=1536, out_features=400, bias=False)\n",
       "        (_activation): Identity()\n",
       "      )\n",
       "      (lin_l): LinearLayer(\n",
       "        (linear): Linear(in_features=1536, out_features=400, bias=False)\n",
       "        (_activation): Identity()\n",
       "      )\n",
       "      (res_block): Residual_block(\n",
       "        (res_layers): Sequential(\n",
       "          (0): LinearLayer(\n",
       "            (linear): Linear(in_features=400, out_features=400, bias=False)\n",
       "            (_activation): ReLU(inplace=True)\n",
       "          )\n",
       "          (1): LinearLayer(\n",
       "            (linear): Linear(in_features=400, out_features=400, bias=False)\n",
       "            (_activation): ReLU(inplace=True)\n",
       "          )\n",
       "          (2): LinearLayer(\n",
       "            (linear): Linear(in_features=400, out_features=400, bias=False)\n",
       "            (_activation): ReLU(inplace=True)\n",
       "          )\n",
       "        )\n",
       "      )\n",
       "    )\n",
       "  )\n",
       "  (dropout): Dropout(p=0.3, inplace=False)\n",
       "  (linear_out): LinearLayer(\n",
       "    (linear): Linear(in_features=400, out_features=100, bias=False)\n",
       "    (_activation): Identity()\n",
       "  )\n",
       ")"
      ]
     },
     "execution_count": 9,
     "metadata": {},
     "output_type": "execute_result"
    }
   ],
   "source": [
    "spectragat"
   ]
  },
  {
   "cell_type": "markdown",
   "id": "ca1a26bf-39e3-4572-bb1d-681e785b7cbe",
   "metadata": {},
   "source": [
    "# Training"
   ]
  },
  {
   "cell_type": "code",
   "execution_count": 12,
   "id": "e3d63217-78f9-4dd6-88a3-1a91a917f72d",
   "metadata": {},
   "outputs": [],
   "source": [
    "def loss_plot(epochs: int, \n",
    "              loss_values: dict, \n",
    "              ylabel: str = None,\n",
    "              plot_test_loss: bool = False,\n",
    "              save: bool = False\n",
    "             ):\n",
    "    assert isinstance(loss_values, dict)\n",
    "    fig, ax = plt.subplots()\n",
    "    sns.lineplot(epochs, loss_values['train'], ax=ax, label='train')\n",
    "    if plot_test_loss:\n",
    "        sns.lineplot(epochs, loss_values['validation'], ax=ax, label='validation') \n",
    "    ax.set_xlabel('Epochs')\n",
    "    ax.set_ylabel('L1 loss')\n",
    "    if save:\n",
    "        fig.savefig('./train_test.png', dpi=200)"
   ]
  },
  {
   "cell_type": "code",
   "execution_count": 13,
   "id": "df7910d6-af26-4785-908c-ce43a5d23b9f",
   "metadata": {},
   "outputs": [],
   "source": [
    "def save_model(model, model_name: str, \n",
    "               device: str):\n",
    "    if not os.path.exists('./best_model'):\n",
    "        os.mkdir('./best_model')\n",
    "    path = os.path.join('./best_model', model_name)\n",
    "    torch.save(model.cpu().state_dict(), path)\n",
    "    model.to(device)"
   ]
  },
  {
   "cell_type": "code",
   "execution_count": 14,
   "id": "0ab4ea88-efbc-48ca-be4f-4c58f936d686",
   "metadata": {},
   "outputs": [],
   "source": [
    "start = torch.cuda.Event(enable_timing=True)\n",
    "end = torch.cuda.Event(enable_timing=True)"
   ]
  },
  {
   "cell_type": "code",
   "execution_count": 15,
   "id": "e4f873be-0b73-4ac4-bfea-0d92a129a056",
   "metadata": {},
   "outputs": [],
   "source": [
    "train_loss_values = []\n",
    "val_loss_values = []\n",
    "epochs = []\n",
    "prev_loss = torch.tensor(float('inf'), device=device)"
   ]
  },
  {
   "cell_type": "code",
   "execution_count": null,
   "id": "59192130-71e5-4afe-b790-b0289f260159",
   "metadata": {
    "tags": []
   },
   "outputs": [
    {
     "name": "stdout",
     "output_type": "stream",
     "text": [
      "time = 0.38 mins\n",
      "epoch 0 | average train loss = 1.86  and average validation loss = 2.26  |learning rate = 0.00010\n"
     ]
    },
    {
     "name": "stderr",
     "output_type": "stream",
     "text": [
      "/p/software/juwelsbooster/stages/2020/software/PyTorch/1.8.1-gcccoremkl-10.3.0-2021.2.0-Python-3.8.5/lib/python3.8/site-packages/torch/optim/lr_scheduler.py:416: UserWarning: To get the last learning rate computed by the scheduler, please use `get_last_lr()`.\n",
      "  warnings.warn(\"To get the last learning rate computed by the scheduler, \"\n"
     ]
    },
    {
     "name": "stdout",
     "output_type": "stream",
     "text": [
      "time = 2.25 mins\n",
      "epoch 50 | average train loss = 1.85  and average validation loss = 2.23  |learning rate = 0.00010\n"
     ]
    }
   ],
   "source": [
    "start.record()\n",
    "for epoch in range(num_epochs):\n",
    "        train_avg_loss = batch_train(spectragnn, train_loader, optimizer, \n",
    "        loss_fn, scheduler, device)\n",
    "        val_avg_loss = batch_val(spectragnn, val_loader, \n",
    "        loss_fn, device)\n",
    "\n",
    "        if val_avg_loss < prev_loss:\n",
    "            save_model(spectragnn, \n",
    "                       model_name, \n",
    "                       device)           \n",
    "            prev_loss = val_avg_loss\n",
    "        \n",
    "        if epoch % 50 == 0:\n",
    "            end.record()\n",
    "            torch.cuda.synchronize()\n",
    "            epochs.append(epoch)\n",
    "            train_loss_values.append(train_avg_loss.cpu().detach().numpy())\n",
    "            val_loss_values.append(val_avg_loss.cpu().detach().numpy())\n",
    "            print(f\"time = {start.elapsed_time(end)/6e4:.2f} mins\")\n",
    "            print(f\"epoch {epoch} | average train loss = {train_avg_loss:.2f}\",\n",
    "                f\" and average validation loss = {val_avg_loss:.2f}\",\n",
    "                f\" |learning rate = {scheduler.get_lr()[0]:.5f}\")"
   ]
  },
  {
   "cell_type": "code",
   "execution_count": null,
   "id": "a01f18b4-e6db-4a7d-9dff-2ea029620722",
   "metadata": {},
   "outputs": [],
   "source": []
  },
  {
   "cell_type": "markdown",
   "id": "3f77c08e-6dd4-45d4-bd51-3892157ca9a2",
   "metadata": {},
   "source": [
    "plot loss vs epochs"
   ]
  },
  {
   "cell_type": "code",
   "execution_count": 15,
   "id": "fcf3585c-381e-4996-819b-21fe31d826c8",
   "metadata": {},
   "outputs": [
    {
     "data": {
      "image/png": "[encoded data removed]",
      "text/plain": [
       "<Figure size 1000x800 with 1 Axes>"
      ]
     },
     "metadata": {},
     "output_type": "display_data"
    }
   ],
   "source": [
    "loss_values = {'train' : np.stack(train_loss_values, axis=0),\n",
    "               'validation' : np.stack(val_loss_values, axis=0)}\n",
    "loss_plot(epochs, loss_values, plot_test_loss=True, save=False)"
   ]
  },
  {
   "cell_type": "code",
   "execution_count": null,
   "id": "35d56d7e-e8af-4f4c-825b-5411b6010e0e",
   "metadata": {},
   "outputs": [],
   "source": []
  },
  {
   "cell_type": "code",
   "execution_count": null,
   "id": "e8fc7628-4e03-4a1c-b7b3-760aa41f75be",
   "metadata": {},
   "outputs": [],
   "source": []
  }
 ],
 "metadata": {
  "kernelspec": {
   "display_name": "PyG",
   "language": "python",
   "name": "pyg"
  },
  "language_info": {
   "codemirror_mode": {
    "name": "ipython",
    "version": 3
   },
   "file_extension": ".py",
   "mimetype": "text/x-python",
   "name": "python",
   "nbconvert_exporter": "python",
   "pygments_lexer": "ipython3",
   "version": "3.8.5"
  }
 },
 "nbformat": 4,
 "nbformat_minor": 5
}
