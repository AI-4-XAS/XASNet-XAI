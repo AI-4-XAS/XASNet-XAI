{
 "cells": [
  {
   "cell_type": "code",
   "execution_count": null,
   "metadata": {
    "tags": []
   },
   "outputs": [],
   "source": [
    "import pandas as pd \n",
    "import numpy as np\n",
    "import torch\n",
    "import os.path as osp\n",
    "import math\n",
    "import copy\n",
    "\n",
    "from XASNet.data import QM9_XAS\n",
    "from XASNet.utils import cam_gnn, cam_graphnet\n",
    "from XASNet.models import XASNet_GNN, XASNet_GAT, XASNet_GraphNet\n",
    "\n",
    "from XASNet.utils import GraphDataProducer\n",
    "from XASNet.utils import (\n",
    "    GroundTruthGenerator,\n",
    "    OrcaAnlyser,\n",
    "    Contributions\n",
    ")\n",
    "from XASNet.utils import auc, plot_roc_curve\n",
    "from XASNet.utils import plot_graph\n",
    "\n",
    "import matplotlib.pyplot as plt\n",
    "import seaborn as sns\n",
    "sns.set(style='whitegrid', palette='muted', font_scale=1.5)\n",
    "\n",
    "from pylab import rc, rcParams\n",
    "rc('text', usetex=False)\n",
    "rc('axes', linewidth=2)\n",
    "rc('font', weight='normal')\n",
    "\n",
    "params = {'legend.fontsize': 17,\n",
    "          'figure.figsize': (8, 6),\n",
    "         'axes.labelsize': 25,\n",
    "         'axes.titlesize': 25,\n",
    "         'xtick.labelsize':25,\n",
    "         'ytick.labelsize':25,\n",
    "         'figure.dpi' : 200}\n",
    "rcParams.update(params)\n",
    "from matplotlib.ticker import FormatStrFormatter\n",
    "\n",
    "device = 'cpu'"
   ]
  },
  {
   "cell_type": "markdown",
   "metadata": {},
   "source": [
    "# Load GNN model "
   ]
  },
  {
   "cell_type": "code",
   "execution_count": null,
   "metadata": {},
   "outputs": [],
   "source": [
    "xasnet_gnn = XASNet_GNN(\n",
    "    gnn_name='gatv2',\n",
    "    in_channels=[11, 128, 256, 512],\n",
    "    out_channels=[128, 256, 512, 600],\n",
    "    num_targets=100,\n",
    "    num_layers=4,\n",
    "    heads=3\n",
    ").to(device)\n",
    "\n",
    "# loading the saved model \n",
    "path_to_model = osp.join('./best_model', \n",
    "                         model_name)\n",
    "\n",
    "if osp.exists(path_to_model):\n",
    "    spectragnn.load_state_dict(torch.load(path_to_model))\n",
    "else:\n",
    "    print('model is not loaded')"
   ]
  },
  {
   "cell_type": "code",
   "execution_count": null,
   "metadata": {},
   "outputs": [],
   "source": []
  },
  {
   "cell_type": "markdown",
   "metadata": {},
   "source": [
    "# Loading test data "
   ]
  },
  {
   "cell_type": "code",
   "execution_count": null,
   "metadata": {},
   "outputs": [],
   "source": [
    "root = 'path-to-qm9xas-dataset'\n",
    "test_qm9xas = QM9_XAS(root=root,\n",
    "             raw_dir='./raw/',\n",
    "             spectra=[])"
   ]
  },
  {
   "cell_type": "code",
   "execution_count": null,
   "metadata": {},
   "outputs": [],
   "source": [
    "# picking a graph from test dataset\n",
    "mol_idx = 9088\n",
    "\n",
    "graph_picker = GraphDataProducer(\n",
    "    model=xasnet_gnn,\n",
    "    gnn_type=\"gatv2\",\n",
    "    test_data=test_qm9xas,\n",
    "    idx_to_pick=mol_idx\n",
    ")\n",
    "\n",
    "graph = graph_picker.picked_graph"
   ]
  },
  {
   "cell_type": "code",
   "execution_count": null,
   "metadata": {},
   "outputs": [],
   "source": [
    "# make prediction with the loaded model \n",
    "y_true = graph.spectrum\n",
    "x_pred, y_pred = graph_picker.predictions()"
   ]
  },
  {
   "cell_type": "code",
   "execution_count": null,
   "metadata": {},
   "outputs": [],
   "source": [
    "# make an atom labels mapping in a dict\n",
    "atomic_num = graph.z\n",
    "label_map = {1: 'H', 6: 'C', 7: 'N', 8: 'O', 9: 'F'}\n",
    "atom_labels = []\n",
    "for i, z in enumerate(atomic_num):\n",
    "    atom_labels.append(f\"{label_map[z.item()]} {i}\")"
   ]
  },
  {
   "cell_type": "markdown",
   "metadata": {},
   "source": [
    "# Visualisation and peak finder"
   ]
  },
  {
   "cell_type": "code",
   "execution_count": null,
   "metadata": {},
   "outputs": [],
   "source": [
    "from utils.visualisation import plot_prediction"
   ]
  },
  {
   "cell_type": "code",
   "execution_count": null,
   "metadata": {
    "tags": []
   },
   "outputs": [],
   "source": [
    "plot_prediction(x_pred, \n",
    "                y_pred, \n",
    "                y_true, \n",
    "                normalise=True, \n",
    "                add_peaks=False,\n",
    "                save=False)"
   ]
  },
  {
   "cell_type": "markdown",
   "metadata": {},
   "source": [
    "# Calculating CAM data based on the model and input graph"
   ]
  },
  {
   "cell_type": "code",
   "execution_count": null,
   "metadata": {
    "tags": []
   },
   "outputs": [],
   "source": [
    "cam_gatv2 = cam_gnn(\n",
    "    graph, \n",
    "    xasnet_gnn\n",
    ")"
   ]
  },
  {
   "cell_type": "code",
   "execution_count": null,
   "metadata": {},
   "outputs": [],
   "source": [
    "# a data frame with xas spectrum data and cam attributions of atoms\n",
    "all_cam_data = pd.DataFrame(\n",
    "    np.c_[x_pred, y_pred, cam_gatv2.T], \n",
    "    columns=['energies', 'osc', *atom_labels]\n",
    ")"
   ]
  },
  {
   "cell_type": "markdown",
   "metadata": {},
   "source": [
    "# Obtaining the ground truth "
   ]
  },
  {
   "cell_type": "code",
   "execution_count": null,
   "metadata": {
    "tags": []
   },
   "outputs": [],
   "source": [
    "path_orca_output = 'path-to-orca-raw-output-file'\n",
    "path_orca_spectrum = 'path-to-xas-spectrum-output-file'\n",
    "\n",
    "orca_analyzer = OrcaAnlyser(path_orca_output,\n",
    "                            path_orca_spectrum)"
   ]
  },
  {
   "cell_type": "code",
   "execution_count": null,
   "metadata": {
    "tags": []
   },
   "outputs": [],
   "source": [
    "excitations = orca_analyzer.give_excitations()"
   ]
  },
  {
   "cell_type": "code",
   "execution_count": null,
   "metadata": {},
   "outputs": [],
   "source": [
    "contributions = Contributions(\n",
    "    excitations, \n",
    "    all_cam_data, \n",
    "    281, \n",
    "    atom_labels\n",
    ")"
   ]
  },
  {
   "cell_type": "code",
   "execution_count": null,
   "metadata": {
    "tags": []
   },
   "outputs": [],
   "source": [
    "# obtaining core/virtual contribution of atoms to the peak, in this case 281 eV\n",
    "acc, don = contributions.don_acc_contrs()\n",
    "# obtaining corresponding cam contributions \n",
    "cam_contr = contributions.cam_contrs()"
   ]
  },
  {
   "cell_type": "code",
   "execution_count": null,
   "metadata": {},
   "outputs": [],
   "source": [
    "# prepare atom labels to visualise on Graph figures\n",
    "labels = dict(zip(\n",
    "    np.arange(len(atom_labels)),\n",
    "    atom_labels\n",
    "))"
   ]
  },
  {
   "cell_type": "code",
   "execution_count": null,
   "metadata": {
    "tags": []
   },
   "outputs": [],
   "source": [
    "# cam graph\n",
    "nx_g_cam = plot_graph(graph, labels, \n",
    "           cam_contr['weights'], \n",
    "           save_fig=False,\n",
    "           acceptor_orb=False)"
   ]
  },
  {
   "cell_type": "code",
   "execution_count": null,
   "metadata": {
    "tags": []
   },
   "outputs": [],
   "source": [
    "# ground truth core orbitals\n",
    "nx_g_don = plot_graph(graph, labels, \n",
    "           don['weights'], \n",
    "           save_fig=False,\n",
    "           don_orb=True)"
   ]
  },
  {
   "cell_type": "code",
   "execution_count": null,
   "metadata": {
    "tags": []
   },
   "outputs": [],
   "source": [
    "# ground truth virtual orbitals \n",
    "nx_g_acc = plot_graph(graph, labels, \n",
    "           acc['weights'], \n",
    "           save_fig=False,\n",
    "           acceptor_orb=True)"
   ]
  },
  {
   "cell_type": "markdown",
   "metadata": {},
   "source": [
    "# AUC-ROC of XAS prediction "
   ]
  },
  {
   "cell_type": "code",
   "execution_count": null,
   "metadata": {},
   "outputs": [],
   "source": [
    "from utils.auc_roc import auc, plot_roc_curve"
   ]
  },
  {
   "cell_type": "code",
   "execution_count": null,
   "metadata": {
    "tags": []
   },
   "outputs": [],
   "source": [
    "scores = np.asarray(cam_contr['weights'])\n",
    "contributions = np.asarray(don['weights'])"
   ]
  },
  {
   "cell_type": "code",
   "execution_count": null,
   "metadata": {},
   "outputs": [],
   "source": [
    "auc_score, fpr, tpr = auc(scores, contributions)"
   ]
  },
  {
   "cell_type": "code",
   "execution_count": null,
   "metadata": {},
   "outputs": [],
   "source": [
    "plot_roc_curve(fpr, tpr)"
   ]
  },
  {
   "cell_type": "code",
   "execution_count": null,
   "metadata": {},
   "outputs": [],
   "source": [
    "auc_score"
   ]
  }
 ],
 "metadata": {
  "kernelspec": {
   "display_name": "venv-xasnet",
   "language": "python",
   "name": "venv-xasnet"
  },
  "language_info": {
   "codemirror_mode": {
    "name": "ipython",
    "version": 3
   },
   "file_extension": ".py",
   "mimetype": "text/x-python",
   "name": "python",
   "nbconvert_exporter": "python",
   "pygments_lexer": "ipython3",
   "version": "3.8.5"
  }
 },
 "nbformat": 4,
 "nbformat_minor": 5
}
