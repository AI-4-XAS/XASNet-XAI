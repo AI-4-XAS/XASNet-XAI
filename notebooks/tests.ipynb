{
 "cells": [
  {
   "cell_type": "code",
   "execution_count": 3,
   "id": "561e99a7-48ec-489b-8b67-a09f984233ec",
   "metadata": {},
   "outputs": [],
   "source": [
    "import sys\n",
    "sys.path.append('/p/home/jusers/kotobi2/juwels/hida_project/')"
   ]
  },
  {
   "cell_type": "code",
   "execution_count": 4,
   "id": "ddd30ed8-8e55-4075-a1ce-6a6756497ea1",
   "metadata": {},
   "outputs": [],
   "source": [
    "import os.path as osp\n",
    "import numpy as np\n",
    "import torch\n",
    "from torch_geometric.loader import DataLoader\n",
    "\n",
    "from attribution_gnn1.QM9_SpecData import QM9_SpecData\n",
    "from attribution_gnn1.split import save_split"
   ]
  },
  {
   "cell_type": "code",
   "execution_count": 5,
   "id": "fff6134f-783f-454b-a776-bc5d30ed3adc",
   "metadata": {
    "tags": []
   },
   "outputs": [],
   "source": [
    "root = '/p/home/jusers/kotobi2/juwels/data_qm9/all_graph_data/qm9_spec_10k.pt'\n",
    "qm9_spec = QM9_SpecData(root=root,\n",
    "             raw_dir='/p/home/jusers/kotobi2/juwels/data_qm9/raw/',\n",
    "             spectra=[])"
   ]
  },
  {
   "cell_type": "code",
   "execution_count": 6,
   "id": "64e55592-5224-4bac-85cc-9f24d8dadfdb",
   "metadata": {},
   "outputs": [],
   "source": [
    "idxs = save_split(\n",
    "    path='/p/home/jusers/kotobi2/juwels/hida_project/data/split_files2/qm9_split_10k.npz',\n",
    "    ndata=len(qm9_spec),\n",
    "    ntrain=8000,\n",
    "    nval=2000,\n",
    "    ntest=0,\n",
    "    save_split=True,\n",
    "    shuffle=True, \n",
    "    print_nsample=True\n",
    ")"
   ]
  },
  {
   "cell_type": "code",
   "execution_count": 7,
   "id": "834298ed-b08d-46e6-a0f2-93958b96a341",
   "metadata": {
    "tags": []
   },
   "outputs": [],
   "source": [
    "#train, val and test data\n",
    "train_qm9 = [qm9_spec[i] for i in idxs['train']]\n",
    "val_qm9 = [qm9_spec[i] for i in idxs['val']]\n",
    "#test_qm9 = qm9_spec[idxs['test']]"
   ]
  },
  {
   "cell_type": "code",
   "execution_count": 8,
   "id": "55d0f928-894c-4e6e-8a69-aca0046b6da5",
   "metadata": {},
   "outputs": [],
   "source": [
    "# data loaders \n",
    "train_loader = DataLoader(train_qm9, batch_size=100, shuffle=True)\n",
    "val_loader = DataLoader(val_qm9, batch_size=100, shuffle=True)\n",
    "#test_loader = DataLoader(test_qm9, batch_size=100)"
   ]
  },
  {
   "cell_type": "markdown",
   "id": "87adbe2f-a2f8-44a3-9002-0a13606deab8",
   "metadata": {},
   "source": [
    "# testing the GraphNet"
   ]
  },
  {
   "cell_type": "code",
   "execution_count": 9,
   "id": "97cddf11-160f-413c-b49b-155c09c80465",
   "metadata": {},
   "outputs": [],
   "source": [
    "from src.GraphNet.modules import GraphNetwork\n",
    "from src.GraphNet.SpectraGraphNet import SpectraGraphNet"
   ]
  },
  {
   "cell_type": "code",
   "execution_count": 10,
   "id": "8c065ab3-77d1-4481-9f90-5fd635bcaa6b",
   "metadata": {},
   "outputs": [],
   "source": [
    "node_model_params = {\"feat_in\": 39, \"feat_hidd\": 64, \"feat_out\": 50}\n",
    "edge_model_params = {\"feat_in\": 124, \"feat_hidd\": 64, \"feat_out\": 50}\n",
    "global_model_params = {\"feat_in\": 120, \"feat_hidd\": 64, \"feat_out\": 50}"
   ]
  },
  {
   "cell_type": "code",
   "execution_count": 11,
   "id": "62d79c36-eca9-4ce4-b1fd-eb22def644cb",
   "metadata": {},
   "outputs": [],
   "source": [
    "graphnet = GraphNetwork(node_model_params, \n",
    "                        edge_model_params,\n",
    "                        global_model_params)"
   ]
  },
  {
   "cell_type": "code",
   "execution_count": 12,
   "id": "5c278ac5-b46f-4b32-961d-723beff35c43",
   "metadata": {
    "collapsed": true,
    "jupyter": {
     "outputs_hidden": true
    },
    "tags": []
   },
   "outputs": [
    {
     "data": {
      "text/plain": [
       "GraphNetwork(\n",
       "  (gatencoder): GATEncoder(\n",
       "    (gats): ModuleList(\n",
       "      (0): GATv2Conv(11, 64, heads=3)\n",
       "      (1): ReLU(inplace=True)\n",
       "      (2): GATv2Conv(192, 64, heads=3)\n",
       "      (3): ReLU(inplace=True)\n",
       "      (4): GATv2Conv(192, 64, heads=3)\n",
       "      (5): ReLU(inplace=True)\n",
       "      (6): GATv2Conv(192, 20, heads=1)\n",
       "    )\n",
       "  )\n",
       "  (node_model): NodeModel(\n",
       "    (mlp): Sequential(\n",
       "      (0): Linear(in_features=39, out_features=64, bias=True)\n",
       "      (1): ReLU(inplace=True)\n",
       "      (2): Linear(in_features=64, out_features=50, bias=True)\n",
       "      (3): ReLU(inplace=True)\n",
       "      (4): LayerNorm((50,), eps=1e-05, elementwise_affine=True)\n",
       "    )\n",
       "  )\n",
       "  (edge_model): EdgeModel(\n",
       "    (mlp): Sequential(\n",
       "      (0): Linear(in_features=124, out_features=64, bias=True)\n",
       "      (1): ReLU(inplace=True)\n",
       "      (2): Linear(in_features=64, out_features=50, bias=True)\n",
       "      (3): ReLU(inplace=True)\n",
       "      (4): LayerNorm((50,), eps=1e-05, elementwise_affine=True)\n",
       "    )\n",
       "  )\n",
       "  (global_model): GlobalModel(\n",
       "    (mlp): Sequential(\n",
       "      (0): Linear(in_features=120, out_features=64, bias=True)\n",
       "      (1): ReLU(inplace=True)\n",
       "      (2): Linear(in_features=64, out_features=50, bias=True)\n",
       "      (3): ReLU(inplace=True)\n",
       "      (4): LayerNorm((50,), eps=1e-05, elementwise_affine=True)\n",
       "    )\n",
       "  )\n",
       ")"
      ]
     },
     "execution_count": 12,
     "metadata": {},
     "output_type": "execute_result"
    }
   ],
   "source": [
    "graphnet"
   ]
  },
  {
   "cell_type": "code",
   "execution_count": 13,
   "id": "57f647ad-860f-4e9e-83a4-3d28714e65db",
   "metadata": {},
   "outputs": [],
   "source": [
    "batch_test = next(iter(train_loader))"
   ]
  },
  {
   "cell_type": "code",
   "execution_count": 14,
   "id": "361823df-9c80-4dae-99e6-e06a487c0a6d",
   "metadata": {
    "tags": []
   },
   "outputs": [
    {
     "data": {
      "text/plain": [
       "DataBatch(x=[1586, 50], edge_index=[2, 3144], edge_attr=[3144, 50], pos=[1586, 3], z=[1586], spectrum=[10000], idx=[100], batch=[1586], ptr=[101], u=[100, 50])"
      ]
     },
     "execution_count": 14,
     "metadata": {},
     "output_type": "execute_result"
    }
   ],
   "source": [
    "graphnet(batch_test)"
   ]
  },
  {
   "cell_type": "code",
   "execution_count": 15,
   "id": "b412e0f2-bca6-49ff-8d94-9693b1330140",
   "metadata": {},
   "outputs": [
    {
     "data": {
      "text/plain": [
       "tensor([[-0.2609,  1.1374, -0.5603,  ..., -0.5603, -0.3861, -0.5603],\n",
       "        [-0.2253,  1.1703, -0.5640,  ..., -0.5640, -0.3790, -0.5640],\n",
       "        [-0.2379,  1.0912, -0.5694,  ..., -0.5694, -0.4212, -0.5694],\n",
       "        ...,\n",
       "        [-0.1369,  1.1702, -0.5700,  ..., -0.5700, -0.4880, -0.5700],\n",
       "        [-0.2483,  1.0855, -0.5661,  ..., -0.5661, -0.4136, -0.5661],\n",
       "        [-0.2671,  1.1663, -0.5594,  ..., -0.5594, -0.4140, -0.5594]],\n",
       "       grad_fn=<NativeLayerNormBackward>)"
      ]
     },
     "execution_count": 15,
     "metadata": {},
     "output_type": "execute_result"
    }
   ],
   "source": [
    "batch_test.u"
   ]
  },
  {
   "cell_type": "code",
   "execution_count": 16,
   "id": "de15ce27-64b5-4e9a-9340-5fc3603ac542",
   "metadata": {},
   "outputs": [],
   "source": [
    "all_params = {\"graphnet1\": {\"node_model_params\": node_model_params,\n",
    "            \"edge_model_params\": edge_model_params,\n",
    "            \"global_model_params\": global_model_params}}"
   ]
  },
  {
   "cell_type": "code",
   "execution_count": 17,
   "id": "41c21f51-8e9c-4d61-81d5-44ff8feab477",
   "metadata": {},
   "outputs": [],
   "source": [
    "spectragraphnet = SpectraGraphNet(all_params=all_params, n_layers=1)"
   ]
  },
  {
   "cell_type": "code",
   "execution_count": 18,
   "id": "ec2b0ce8-7202-44b9-a0a1-f22598d60be3",
   "metadata": {
    "collapsed": true,
    "jupyter": {
     "outputs_hidden": true
    },
    "tags": []
   },
   "outputs": [
    {
     "data": {
      "text/plain": [
       "SpectraGraphNet(\n",
       "  (graphnets): ModuleList(\n",
       "    (0): GraphNetwork(\n",
       "      (gatencoder): GATEncoder(\n",
       "        (gats): ModuleList(\n",
       "          (0): GATv2Conv(11, 64, heads=3)\n",
       "          (1): ReLU(inplace=True)\n",
       "          (2): GATv2Conv(192, 64, heads=3)\n",
       "          (3): ReLU(inplace=True)\n",
       "          (4): GATv2Conv(192, 64, heads=3)\n",
       "          (5): ReLU(inplace=True)\n",
       "          (6): GATv2Conv(192, 20, heads=1)\n",
       "        )\n",
       "      )\n",
       "      (node_model): NodeModel(\n",
       "        (mlp): Sequential(\n",
       "          (0): Linear(in_features=39, out_features=64, bias=True)\n",
       "          (1): ReLU(inplace=True)\n",
       "          (2): Linear(in_features=64, out_features=50, bias=True)\n",
       "          (3): ReLU(inplace=True)\n",
       "          (4): LayerNorm((50,), eps=1e-05, elementwise_affine=True)\n",
       "        )\n",
       "      )\n",
       "      (edge_model): EdgeModel(\n",
       "        (mlp): Sequential(\n",
       "          (0): Linear(in_features=124, out_features=64, bias=True)\n",
       "          (1): ReLU(inplace=True)\n",
       "          (2): Linear(in_features=64, out_features=50, bias=True)\n",
       "          (3): ReLU(inplace=True)\n",
       "          (4): LayerNorm((50,), eps=1e-05, elementwise_affine=True)\n",
       "        )\n",
       "      )\n",
       "      (global_model): GlobalModel(\n",
       "        (mlp): Sequential(\n",
       "          (0): Linear(in_features=120, out_features=64, bias=True)\n",
       "          (1): ReLU(inplace=True)\n",
       "          (2): Linear(in_features=64, out_features=50, bias=True)\n",
       "          (3): ReLU(inplace=True)\n",
       "          (4): LayerNorm((50,), eps=1e-05, elementwise_affine=True)\n",
       "        )\n",
       "      )\n",
       "    )\n",
       "  )\n",
       "  (dropout): Dropout(p=0.3, inplace=False)\n",
       "  (output_dense): Linear(in_features=150, out_features=100, bias=True)\n",
       ")"
      ]
     },
     "execution_count": 18,
     "metadata": {},
     "output_type": "execute_result"
    }
   ],
   "source": [
    "spectragraphnet"
   ]
  },
  {
   "cell_type": "markdown",
   "id": "53e8a138-9dde-4eb2-8df7-f71ee6558242",
   "metadata": {},
   "source": [
    "# Testing jumping knowledge "
   ]
  },
  {
   "cell_type": "code",
   "execution_count": 46,
   "id": "4cfb5ac4-ae85-4240-bfe5-29f3e995d820",
   "metadata": {},
   "outputs": [],
   "source": [
    "import os\n",
    "import os.path as osp\n",
    "import numpy as np\n",
    "\n",
    "from torch_geometric.nn import GATv2Conv\n",
    "import torch\n",
    "from torch.nn import LSTM, Linear\n",
    "\n",
    "from attribution_gnn1.QM9_SpecData import QM9_SpecData\n",
    "from attribution_gnn1.split import save_split"
   ]
  },
  {
   "cell_type": "code",
   "execution_count": 65,
   "id": "7d0606b4-b361-4648-b428-0009404b8446",
   "metadata": {},
   "outputs": [],
   "source": [
    "gat_layers = [\n",
    "    GATv2Conv(11, 64),\n",
    "    GATv2Conv(64, 64),\n",
    "     GATv2Conv(64, 64),\n",
    "]\n",
    "\n",
    "lstm = LSTM(64, 64, num_layers=3, bidirectional=True, batch_first=True)\n",
    "att = Linear(128, 1)"
   ]
  },
  {
   "cell_type": "code",
   "execution_count": 66,
   "id": "6e6d1384-2997-43a3-bbf2-c56497057b4e",
   "metadata": {},
   "outputs": [],
   "source": [
    "gat_layers = torch.nn.ModuleList(gat_layers)"
   ]
  },
  {
   "cell_type": "code",
   "execution_count": 8,
   "id": "08048e1f-96ba-4a72-beea-765099d410ec",
   "metadata": {},
   "outputs": [],
   "source": [
    "root = '/p/home/jusers/kotobi2/juwels/data_qm9/qm9_spec_10k.pt'\n",
    "qm9_spec = QM9_SpecData(root=root,\n",
    "             raw_dir='/p/home/jusers/kotobi2/juwels/data_qm9/raw/',\n",
    "             spectra=[])#broadened_spectra_stk)\n",
    "\n",
    "if not osp.exists(root):\n",
    "    torch.save(qm9_spec, root)"
   ]
  },
  {
   "cell_type": "code",
   "execution_count": 9,
   "id": "fa85852f-2589-41a2-8489-1ff34b745be5",
   "metadata": {},
   "outputs": [],
   "source": [
    "idxs = save_split(\n",
    "    path='/p/home/jusers/kotobi2/juwels/hida_project/data/split_files/qm9_split_10k.npz',\n",
    "    ndata=len(qm9_spec),\n",
    "    ntrain=8000,\n",
    "    nval=1500,\n",
    "    save_split=True,\n",
    "    shuffle=True, \n",
    "    print_nsample=True\n",
    ")"
   ]
  },
  {
   "cell_type": "code",
   "execution_count": 10,
   "id": "d2d1561e-1ad1-4850-99d7-af504976c9f7",
   "metadata": {},
   "outputs": [],
   "source": [
    "train_qm9 = qm9_spec[idxs['train']]\n",
    "val_qm9 = qm9_spec[idxs['val']]\n",
    "test_qm9 = qm9_spec[idxs['test']]"
   ]
  },
  {
   "cell_type": "code",
   "execution_count": 102,
   "id": "e45a8f69-4f5d-41d7-a969-824a53cec32c",
   "metadata": {},
   "outputs": [],
   "source": [
    "molecule_graph = train_qm9[0]\n",
    "x, edge_index = molecule_graph.x, molecule_graph.edge_index\n",
    "batch_seg = torch.tensor(np.repeat(0, x.shape[0]))"
   ]
  },
  {
   "cell_type": "code",
   "execution_count": 103,
   "id": "bdc787d4-143c-440c-bb3b-e71e02b5e036",
   "metadata": {},
   "outputs": [],
   "source": [
    "xs = []\n",
    "for layer in gat_layers:\n",
    "    x = layer(x, edge_index).flatten(1)\n",
    "    xs.append(x.unsqueeze(-1))"
   ]
  },
  {
   "cell_type": "code",
   "execution_count": 96,
   "id": "ba07dcb7-5238-41ee-b32c-1fae5f6d3a37",
   "metadata": {},
   "outputs": [],
   "source": [
    "xs = torch.cat(xs, dim=-1).transpose(1,2)\n",
    "\n",
    "alpha, _ = lstm(xs)\n",
    "\n",
    "alpha = att(alpha).squeeze(-1)\n",
    "\n",
    "alpha = torch.softmax(alpha, dim=-1)\n",
    "\n",
    "h = (xs * alpha.unsqueeze(-1)).sum(1)"
   ]
  },
  {
   "cell_type": "code",
   "execution_count": null,
   "id": "83fd9dd1-9432-4769-b9dc-f5656e3464a7",
   "metadata": {},
   "outputs": [],
   "source": []
  },
  {
   "cell_type": "code",
   "execution_count": null,
   "id": "dac5febb-49d8-41c1-aaae-3e81cef707cf",
   "metadata": {},
   "outputs": [],
   "source": []
  },
  {
   "cell_type": "code",
   "execution_count": null,
   "id": "bd4f3fe5-216e-4f1b-9c9d-9d6b7d3c6017",
   "metadata": {},
   "outputs": [],
   "source": []
  }
 ],
 "metadata": {
  "kernelspec": {
   "display_name": "PyG",
   "language": "python",
   "name": "pyg"
  },
  "language_info": {
   "codemirror_mode": {
    "name": "ipython",
    "version": 3
   },
   "file_extension": ".py",
   "mimetype": "text/x-python",
   "name": "python",
   "nbconvert_exporter": "python",
   "pygments_lexer": "ipython3",
   "version": "3.8.5"
  }
 },
 "nbformat": 4,
 "nbformat_minor": 5
}
